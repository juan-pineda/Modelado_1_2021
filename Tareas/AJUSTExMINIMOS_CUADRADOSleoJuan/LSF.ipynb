{
 "cells": [
  {
   "cell_type": "code",
   "execution_count": 70,
   "id": "a63be5af-8209-42d8-8855-7b27c4f980fc",
   "metadata": {},
   "outputs": [],
   "source": [
    "import pandas as pd\n",
    "import matplotlib.pyplot as plt\n",
    "import numpy as np\n",
    "import math\n",
    "\n",
    "def box_print(str_w):\n",
    "    hbar = len(str_w) + 4\n",
    "    print('-'*hbar + '\\n| ' + str_w + ' |\\n' + '-'*hbar)"
   ]
  },
  {
   "cell_type": "markdown",
   "id": "5f774201-f181-4a52-a3d4-e7fa0a6e1198",
   "metadata": {},
   "source": [
    "# CONTENIDO\n",
    "\n",
    "1. [Ajuste por mínimos cuadrados](#ajuste_minimos_cuadrados)\n",
    "2. [Ejemplo regresion lineal](#regresion_lineal)\n",
    "3. [Formulación general para formas lineales](#formas_lineales)\n",
    "4. [Pesos residuales](#pesos_residuales)\n",
    "\n",
    "[Referencias](#refe)"
   ]
  },
  {
   "cell_type": "markdown",
   "id": "4db4d260-a204-41b6-9c73-3a606e84e9cc",
   "metadata": {},
   "source": [
    "<a id='obtiene_conoce_datos'></a>\n",
    "\n",
    "# Ajuste por mínimos cuadrados"
   ]
  },
  {
   "cell_type": "markdown",
   "id": "bf97b368-85eb-4779-be24-f56e9a820daa",
   "metadata": {},
   "source": [
    "![](./imgs/img2.png)\n"
   ]
  },
  {
   "cell_type": "markdown",
   "id": "81725593-2be0-4939-9e07-6536599055d4",
   "metadata": {},
   "source": [
    "A continuación se presenta un ejemplo con 4 datos con cordenadas (``xx,yy`` )"
   ]
  },
  {
   "cell_type": "code",
   "execution_count": 71,
   "id": "09679a25-9f01-444c-9657-dbcf1ed1eec9",
   "metadata": {},
   "outputs": [
    {
     "data": {
      "text/plain": [
       "((0.0, 5.0), (0.0, 5.0))"
      ]
     },
     "execution_count": 71,
     "metadata": {},
     "output_type": "execute_result"
    },
    {
     "data": {
      "image/png": "[encoded data removed]",
      "text/plain": [
       "<Figure size 504x504 with 1 Axes>"
      ]
     },
     "metadata": {
      "needs_background": "light"
     },
     "output_type": "display_data"
    }
   ],
   "source": [
    "#plot de nube de puntos\n",
    "xx = np.array([1,2,3,4]) #cordenadas en x\n",
    "yy = np.array([0.75,1.4,2.2,3.7]) #cordenadas en y\n",
    "plt.figure(figsize=(7,7))\n",
    "plt.scatter(xx,yy, s=50, marker='o')\n",
    "plt.xlim((0,5)), plt.ylim((0,5))"
   ]
  },
  {
   "cell_type": "markdown",
   "id": "cfc3e2fb-e211-4eb7-a2f6-a469df443c58",
   "metadata": {},
   "source": [
    "<a id='regresion_lineal'></a>\n",
    "\n",
    "# Ejemplo regresion lineal\n",
    "Existen muchos ejemplos de ajuste por minimos cuadrados. El mas sencillo y conocido es la regresión lineal, aqui se busca ajustar una recta al conjunto de datos."
   ]
  },
  {
   "cell_type": "markdown",
   "id": "a5daa415-482a-45ea-9d5c-472705bc0709",
   "metadata": {},
   "source": [
    "![](./imgs/img3.png)\n",
    "![](./imgs/img5.png)"
   ]
  },
  {
   "cell_type": "markdown",
   "id": "4debc8f0-f05f-4a12-ab65-6632242e05ad",
   "metadata": {},
   "source": [
    "![](./imgs/img6.png)\n",
    "![](./imgs/img7.png)\n",
    "![](./imgs/img8.png)"
   ]
  },
  {
   "cell_type": "markdown",
   "id": "96eff849-8a1d-4414-8cd5-edcc8dd2c950",
   "metadata": {},
   "source": [
    "Veamos un ejemplo del calculo de los coeficientes de la regresión para el conjunto de los 4 datos presentados previamente"
   ]
  },
  {
   "cell_type": "code",
   "execution_count": 72,
   "id": "f562139f-f6b3-4c38-9ccf-1d4c4a30562d",
   "metadata": {},
   "outputs": [
    {
     "data": {
      "text/html": [
       "<div>\n",
       "<style scoped>\n",
       "    .dataframe tbody tr th:only-of-type {\n",
       "        vertical-align: middle;\n",
       "    }\n",
       "\n",
       "    .dataframe tbody tr th {\n",
       "        vertical-align: top;\n",
       "    }\n",
       "\n",
       "    .dataframe thead th {\n",
       "        text-align: right;\n",
       "    }\n",
       "</style>\n",
       "<table border=\"1\" class=\"dataframe\">\n",
       "  <thead>\n",
       "    <tr style=\"text-align: right;\">\n",
       "      <th></th>\n",
       "      <th>x_i</th>\n",
       "      <th>y_i</th>\n",
       "    </tr>\n",
       "  </thead>\n",
       "  <tbody>\n",
       "    <tr>\n",
       "      <th>0</th>\n",
       "      <td>1</td>\n",
       "      <td>0.75</td>\n",
       "    </tr>\n",
       "    <tr>\n",
       "      <th>1</th>\n",
       "      <td>2</td>\n",
       "      <td>1.40</td>\n",
       "    </tr>\n",
       "    <tr>\n",
       "      <th>2</th>\n",
       "      <td>3</td>\n",
       "      <td>2.20</td>\n",
       "    </tr>\n",
       "    <tr>\n",
       "      <th>3</th>\n",
       "      <td>4</td>\n",
       "      <td>3.70</td>\n",
       "    </tr>\n",
       "  </tbody>\n",
       "</table>\n",
       "</div>"
      ],
      "text/plain": [
       "   x_i   y_i\n",
       "0    1  0.75\n",
       "1    2  1.40\n",
       "2    3  2.20\n",
       "3    4  3.70"
      ]
     },
     "metadata": {},
     "output_type": "display_data"
    },
    {
     "data": {
      "text/html": [
       "<div>\n",
       "<style scoped>\n",
       "    .dataframe tbody tr th:only-of-type {\n",
       "        vertical-align: middle;\n",
       "    }\n",
       "\n",
       "    .dataframe tbody tr th {\n",
       "        vertical-align: top;\n",
       "    }\n",
       "\n",
       "    .dataframe thead th {\n",
       "        text-align: right;\n",
       "    }\n",
       "</style>\n",
       "<table border=\"1\" class=\"dataframe\">\n",
       "  <thead>\n",
       "    <tr style=\"text-align: right;\">\n",
       "      <th></th>\n",
       "      <th>x_i</th>\n",
       "      <th>y_i</th>\n",
       "      <th>y_i(x_i-x_pro)</th>\n",
       "      <th>x_i(x_i-x_pro)</th>\n",
       "    </tr>\n",
       "  </thead>\n",
       "  <tbody>\n",
       "    <tr>\n",
       "      <th>0</th>\n",
       "      <td>1</td>\n",
       "      <td>0.75</td>\n",
       "      <td>-1.125</td>\n",
       "      <td>-1.5</td>\n",
       "    </tr>\n",
       "    <tr>\n",
       "      <th>1</th>\n",
       "      <td>2</td>\n",
       "      <td>1.40</td>\n",
       "      <td>-0.700</td>\n",
       "      <td>-1.0</td>\n",
       "    </tr>\n",
       "    <tr>\n",
       "      <th>2</th>\n",
       "      <td>3</td>\n",
       "      <td>2.20</td>\n",
       "      <td>1.100</td>\n",
       "      <td>1.5</td>\n",
       "    </tr>\n",
       "    <tr>\n",
       "      <th>3</th>\n",
       "      <td>4</td>\n",
       "      <td>3.70</td>\n",
       "      <td>5.550</td>\n",
       "      <td>6.0</td>\n",
       "    </tr>\n",
       "  </tbody>\n",
       "</table>\n",
       "</div>"
      ],
      "text/plain": [
       "   x_i   y_i  y_i(x_i-x_pro)  x_i(x_i-x_pro)\n",
       "0    1  0.75          -1.125            -1.5\n",
       "1    2  1.40          -0.700            -1.0\n",
       "2    3  2.20           1.100             1.5\n",
       "3    4  3.70           5.550             6.0"
      ]
     },
     "metadata": {},
     "output_type": "display_data"
    },
    {
     "name": "stdout",
     "output_type": "stream",
     "text": [
      "a1 = 0.9650000000000002, a0 = -0.40000000000000036\n"
     ]
    }
   ],
   "source": [
    "df = pd.DataFrame({'x_i': xx, 'y_i':yy})\n",
    "display(df)\n",
    "xpro, ypro = df['x_i'].mean(), df['y_i'].mean()\n",
    "df['y_i(x_i-x_pro)'] = df['y_i']*(df['x_i']-xpro) #Se calcula la operacion del numerador\n",
    "df['x_i(x_i-x_pro)'] = df['x_i']*(df['x_i']-xpro) #Se calcula la operacion del denominador\n",
    "display(df)\n",
    "a_1 = (df['y_i(x_i-x_pro)'].sum()) / (df['x_i(x_i-x_pro)'].sum()) #se calcula a1\n",
    "a_0 = ypro - a_1*xpro # se calcula a0\n",
    "print(f'a1 = {a_1}, a0 = {a_0}')"
   ]
  },
  {
   "cell_type": "markdown",
   "id": "139b36f9-c69c-4213-86b8-251eec3d39c6",
   "metadata": {},
   "source": [
    "Veamos la grafica del ajuste encontrado"
   ]
  },
  {
   "cell_type": "code",
   "execution_count": 73,
   "id": "d3782eb6-d145-4f15-b857-c4ca2191d93b",
   "metadata": {},
   "outputs": [
    {
     "data": {
      "text/plain": [
       "[<matplotlib.lines.Line2D at 0x7ff67b97c7c0>]"
      ]
     },
     "execution_count": 73,
     "metadata": {},
     "output_type": "execute_result"
    },
    {
     "data": {
      "image/png": "[encoded data removed]",
      "text/plain": [
       "<Figure size 504x504 with 1 Axes>"
      ]
     },
     "metadata": {
      "needs_background": "light"
     },
     "output_type": "display_data"
    }
   ],
   "source": [
    "# ------plot de nube de puntos\n",
    "plt.figure(figsize=(7,7))\n",
    "plt.scatter(xx,yy, s=50, marker='o')\n",
    "plt.xlim((0,5)), plt.ylim((0,5))\n",
    "\n",
    "# ------ linea estimada\n",
    "x = np.arange(0,5,0.01)\n",
    "y_estim = a_0 + a_1*x\n",
    "plt.plot(x,y_estim, c='r')"
   ]
  },
  {
   "cell_type": "markdown",
   "id": "a4ee8e5c-86a2-41b3-bdaa-018bd7135ed6",
   "metadata": {},
   "source": [
    "<a id='formas_lineales'></a>\n",
    "\n",
    "# Formulación general para formas lineales\n",
    "\n",
    "Formulación general cuando se quiere ajustar una función como una combinación lineal de diferentes funciones dadas."
   ]
  },
  {
   "cell_type": "markdown",
   "id": "87ca8670-c466-4aea-a4ec-d8cea153ba88",
   "metadata": {},
   "source": [
    "![](./imgs/img9.png)\n",
    "![](./imgs/img10.png)\n",
    "![](./imgs/img11.png)\n",
    "![](./imgs/img12.png)"
   ]
  },
  {
   "cell_type": "markdown",
   "id": "046fc0a7-8341-4a13-888e-04a889cfb7cd",
   "metadata": {},
   "source": [
    "Se introduce ahora funciones para resolver el sistema de ecuaciones mencionado justo arriba. "
   ]
  },
  {
   "cell_type": "code",
   "execution_count": 74,
   "id": "9577f90d-c340-4432-8d80-03dd757356fa",
   "metadata": {},
   "outputs": [],
   "source": [
    "def polyFit(xData,yData,m):\n",
    "    a = np.zeros((m+1,m+1))\n",
    "    b = np.zeros(m+1)\n",
    "    s = np.zeros(2*m+1)\n",
    "    for i in range(len(xData)):\n",
    "        temp = yData[i]\n",
    "        for j in range(m+1): # se calcula el b\n",
    "            b[j] = b[j] + temp\n",
    "            temp = temp*xData[i]\n",
    "        temp = 1.0\n",
    "        for j in range(2*m+1): # se calcula los valores de A\n",
    "            s[j] = s[j] + temp\n",
    "            temp = temp*xData[i]\n",
    "    for i in range(m+1): # se llena A\n",
    "        for j in range(m+1):\n",
    "            a[i,j] = s[i+j]\n",
    "    return np.linalg.solve(a,b) #Se resuelve el sistema (tomado de: _______)\n",
    "\n"
   ]
  },
  {
   "cell_type": "code",
   "execution_count": 75,
   "id": "490ea9a3-b675-47ea-bf73-2930cf6afd7b",
   "metadata": {},
   "outputs": [
    {
     "data": {
      "text/plain": [
       "array([ 0.6625, -0.0975,  0.2125])"
      ]
     },
     "execution_count": 75,
     "metadata": {},
     "output_type": "execute_result"
    }
   ],
   "source": [
    "coef = polyFit(xx,yy,2)\n",
    "coef"
   ]
  },
  {
   "cell_type": "markdown",
   "id": "4504d6c5-707c-4dcd-8598-150167ecdd41",
   "metadata": {},
   "source": [
    "Para el calculo de la desviación, definimos la sigueinte función"
   ]
  },
  {
   "cell_type": "code",
   "execution_count": 76,
   "id": "12b83855-7f15-4924-bd0f-af0041cb9f0b",
   "metadata": {},
   "outputs": [],
   "source": [
    "def stdDev(c,xData,yData):\n",
    "    def evalPoly(c,x):\n",
    "        m = len(c) - 1\n",
    "        p = c[m]\n",
    "        for j in range(m):\n",
    "            p = p*x + c[m-j-1] # se define el polinomio de forma recursiva \n",
    "        return p\n",
    "    n = len(xData) - 1\n",
    "    m = len(c) - 1\n",
    "    sigma = 0.0\n",
    "    for i in range(n+1):\n",
    "        p = evalPoly(c,xData[i])\n",
    "        sigma = sigma + (yData[i] - p)**2\n",
    "#     sigma = math.sqrt(sigma/np.abs((n - m))) # <------- Que pasa si tomamos valor absoluto cuando m>n?\n",
    "    sigma = math.sqrt(sigma/(n - m))\n",
    "    return sigma"
   ]
  },
  {
   "cell_type": "code",
   "execution_count": 77,
   "id": "f024e1bf-432d-4c27-923f-0024b95dff3f",
   "metadata": {},
   "outputs": [
    {
     "data": {
      "text/plain": [
       "0.12298373876248797"
      ]
     },
     "execution_count": 77,
     "metadata": {},
     "output_type": "execute_result"
    }
   ],
   "source": [
    "stdDev(coef,xx,yy)"
   ]
  },
  {
   "cell_type": "markdown",
   "id": "a468ab73-9d34-4a62-a59e-f03c54ff3e94",
   "metadata": {},
   "source": [
    "Por ultimo definimos la siguiente función para pintar el ajuste encontrado"
   ]
  },
  {
   "cell_type": "code",
   "execution_count": 78,
   "id": "dbcbbddb-5b54-461a-81e4-4277bd1e57da",
   "metadata": {},
   "outputs": [],
   "source": [
    "def plotPoly(xData,yData,coeff,xlab='x',ylab='y'):\n",
    "    m = len(coeff)\n",
    "    x1 = min(xData)\n",
    "    x2 = max(xData)\n",
    "    dx = (x2 - x1)/20.0\n",
    "    x = np.arange(x1,x2 + dx/10.0,dx)\n",
    "    y = np.zeros((len(x)))*1.0\n",
    "    for i in range(m):\n",
    "        y = y + coeff[i]*x**i\n",
    "    plt.title(f'm= {m-1}. Error = {stdDev(coef,xx,yy)}')\n",
    "    plt.plot(xData,yData,'o',x,y,'-')\n",
    "    plt.xlabel(xlab); plt.ylabel(ylab)\n",
    "    plt.grid (True)\n",
    "    plt.show()"
   ]
  },
  {
   "cell_type": "markdown",
   "id": "37316866-6ca9-432e-a702-c21676bd350e",
   "metadata": {},
   "source": [
    "Ejemplo ajustando con 1,2, y 3 funciones"
   ]
  },
  {
   "cell_type": "code",
   "execution_count": 80,
   "id": "7a422bac-2b3a-47a8-8880-c7798890c897",
   "metadata": {},
   "outputs": [
    {
     "name": "stdout",
     "output_type": "stream",
     "text": [
      "orden 1 --> [-0.4    0.965]\n"
     ]
    },
    {
     "data": {
      "image/png": "[encoded data removed]",
      "text/plain": [
       "<Figure size 432x288 with 1 Axes>"
      ]
     },
     "metadata": {
      "needs_background": "light"
     },
     "output_type": "display_data"
    },
    {
     "name": "stdout",
     "output_type": "stream",
     "text": [
      "orden 2 --> [ 0.6625 -0.0975  0.2125]\n"
     ]
    },
    {
     "data": {
      "image/png": "[encoded data removed]",
      "text/plain": [
       "<Figure size 432x288 with 1 Axes>"
      ]
     },
     "metadata": {
      "needs_background": "light"
     },
     "output_type": "display_data"
    },
    {
     "name": "stdout",
     "output_type": "stream",
     "text": [
      "orden 3 --> [-0.3         1.43333333 -0.475       0.09166667]\n"
     ]
    },
    {
     "name": "stderr",
     "output_type": "stream",
     "text": [
      "<ipython-input-76-e64015ad713c>:15: RuntimeWarning: divide by zero encountered in double_scalars\n",
      "  sigma = math.sqrt(sigma/(n - m))\n"
     ]
    },
    {
     "data": {
      "image/png": "[encoded data removed]",
      "text/plain": [
       "<Figure size 432x288 with 1 Axes>"
      ]
     },
     "metadata": {
      "needs_background": "light"
     },
     "output_type": "display_data"
    }
   ],
   "source": [
    "for i in [1,2, 3]:\n",
    "    coef = polyFit(xx,yy,i)\n",
    "    print(f'orden {i} --> {coef}')\n",
    "    plotPoly(xx,yy,coef)        \n",
    "    plt.show()\n",
    "\n"
   ]
  },
  {
   "cell_type": "markdown",
   "id": "e0c1833e-c52f-40ff-b3ea-33b50f80d8d1",
   "metadata": {},
   "source": [
    "<a id='pesos_residuales'></a>\n",
    "\n",
    "# Pesos residuales\n",
    "\n",
    "Que pasa si introducimos pesos al ajuste buscado?"
   ]
  },
  {
   "cell_type": "markdown",
   "id": "b7ac7291-9d82-4bc0-86b3-e88d70fdb360",
   "metadata": {},
   "source": [
    "![](./imgs/img13.png)\n",
    "![](./imgs/img14.png)\n",
    "![](./imgs/img15.png)"
   ]
  },
  {
   "cell_type": "markdown",
   "id": "f4bd8fb5-30bd-4d44-936d-df7fcce3b035",
   "metadata": {},
   "source": [
    "![](./imgs/img16.png)\n",
    "![](./imgs/img17.png)\n",
    "![](./imgs/img18.png)"
   ]
  },
  {
   "cell_type": "markdown",
   "id": "d3d67ebb-8b25-4a4e-896f-d2b4c3115bab",
   "metadata": {},
   "source": [
    "## Ejercicio\n",
    "\n",
    "![](./imgs/img19.png)\n",
    "\n",
    "### 1) Calculemos el ajuste utilizando el logaritmo: $ln y_i$. \n",
    "\n",
    " Para esto buscamos ajustar $\\ln(ae^{bx}) = \\ln a + bx$"
   ]
  },
  {
   "cell_type": "code",
   "execution_count": 63,
   "id": "ddcd8d51-d6e7-4dbe-b2b4-613a4fcb2d49",
   "metadata": {},
   "outputs": [
    {
     "data": {
      "text/html": [
       "<div>\n",
       "<style scoped>\n",
       "    .dataframe tbody tr th:only-of-type {\n",
       "        vertical-align: middle;\n",
       "    }\n",
       "\n",
       "    .dataframe tbody tr th {\n",
       "        vertical-align: top;\n",
       "    }\n",
       "\n",
       "    .dataframe thead th {\n",
       "        text-align: right;\n",
       "    }\n",
       "</style>\n",
       "<table border=\"1\" class=\"dataframe\">\n",
       "  <thead>\n",
       "    <tr style=\"text-align: right;\">\n",
       "      <th></th>\n",
       "      <th>x</th>\n",
       "      <th>y</th>\n",
       "    </tr>\n",
       "  </thead>\n",
       "  <tbody>\n",
       "    <tr>\n",
       "      <th>0</th>\n",
       "      <td>1.2</td>\n",
       "      <td>7.5</td>\n",
       "    </tr>\n",
       "    <tr>\n",
       "      <th>1</th>\n",
       "      <td>2.8</td>\n",
       "      <td>16.1</td>\n",
       "    </tr>\n",
       "    <tr>\n",
       "      <th>2</th>\n",
       "      <td>4.3</td>\n",
       "      <td>38.9</td>\n",
       "    </tr>\n",
       "    <tr>\n",
       "      <th>3</th>\n",
       "      <td>5.4</td>\n",
       "      <td>67.0</td>\n",
       "    </tr>\n",
       "    <tr>\n",
       "      <th>4</th>\n",
       "      <td>6.8</td>\n",
       "      <td>146.6</td>\n",
       "    </tr>\n",
       "    <tr>\n",
       "      <th>5</th>\n",
       "      <td>7.9</td>\n",
       "      <td>266.2</td>\n",
       "    </tr>\n",
       "  </tbody>\n",
       "</table>\n",
       "</div>"
      ],
      "text/plain": [
       "     x      y\n",
       "0  1.2    7.5\n",
       "1  2.8   16.1\n",
       "2  4.3   38.9\n",
       "3  5.4   67.0\n",
       "4  6.8  146.6\n",
       "5  7.9  266.2"
      ]
     },
     "metadata": {},
     "output_type": "display_data"
    },
    {
     "data": {
      "image/png": "[encoded data removed]",
      "text/plain": [
       "<Figure size 504x504 with 1 Axes>"
      ]
     },
     "metadata": {
      "needs_background": "light"
     },
     "output_type": "display_data"
    },
    {
     "data": {
      "text/html": [
       "<div>\n",
       "<style scoped>\n",
       "    .dataframe tbody tr th:only-of-type {\n",
       "        vertical-align: middle;\n",
       "    }\n",
       "\n",
       "    .dataframe tbody tr th {\n",
       "        vertical-align: top;\n",
       "    }\n",
       "\n",
       "    .dataframe thead th {\n",
       "        text-align: right;\n",
       "    }\n",
       "</style>\n",
       "<table border=\"1\" class=\"dataframe\">\n",
       "  <thead>\n",
       "    <tr style=\"text-align: right;\">\n",
       "      <th></th>\n",
       "      <th>x</th>\n",
       "      <th>y</th>\n",
       "      <th>z = ln(y)</th>\n",
       "    </tr>\n",
       "  </thead>\n",
       "  <tbody>\n",
       "    <tr>\n",
       "      <th>0</th>\n",
       "      <td>1.2</td>\n",
       "      <td>7.5</td>\n",
       "      <td>2.014903</td>\n",
       "    </tr>\n",
       "    <tr>\n",
       "      <th>1</th>\n",
       "      <td>2.8</td>\n",
       "      <td>16.1</td>\n",
       "      <td>2.778819</td>\n",
       "    </tr>\n",
       "    <tr>\n",
       "      <th>2</th>\n",
       "      <td>4.3</td>\n",
       "      <td>38.9</td>\n",
       "      <td>3.660994</td>\n",
       "    </tr>\n",
       "    <tr>\n",
       "      <th>3</th>\n",
       "      <td>5.4</td>\n",
       "      <td>67.0</td>\n",
       "      <td>4.204693</td>\n",
       "    </tr>\n",
       "    <tr>\n",
       "      <th>4</th>\n",
       "      <td>6.8</td>\n",
       "      <td>146.6</td>\n",
       "      <td>4.987708</td>\n",
       "    </tr>\n",
       "    <tr>\n",
       "      <th>5</th>\n",
       "      <td>7.9</td>\n",
       "      <td>266.2</td>\n",
       "      <td>5.584248</td>\n",
       "    </tr>\n",
       "  </tbody>\n",
       "</table>\n",
       "</div>"
      ],
      "text/plain": [
       "     x      y  z = ln(y)\n",
       "0  1.2    7.5   2.014903\n",
       "1  2.8   16.1   2.778819\n",
       "2  4.3   38.9   3.660994\n",
       "3  5.4   67.0   4.204693\n",
       "4  6.8  146.6   4.987708\n",
       "5  7.9  266.2   5.584248"
      ]
     },
     "metadata": {},
     "output_type": "display_data"
    },
    {
     "name": "stdout",
     "output_type": "stream",
     "text": [
      "Factores de la aproximacion lineal f(x) = ln (a) + bx...\n",
      "\n",
      " ln (a) = 1.3320646439973554, b = 0.5365836969710379\n",
      "-------------------------------------------------------------\n",
      "| Entonces... a = 3.7888579604822263, b= 0.5365836969710379 |\n",
      "-------------------------------------------------------------\n"
     ]
    },
    {
     "data": {
      "image/png": "[encoded data removed]",
      "text/plain": [
       "<Figure size 504x504 with 1 Axes>"
      ]
     },
     "metadata": {
      "needs_background": "light"
     },
     "output_type": "display_data"
    },
    {
     "data": {
      "text/html": [
       "<div>\n",
       "<style scoped>\n",
       "    .dataframe tbody tr th:only-of-type {\n",
       "        vertical-align: middle;\n",
       "    }\n",
       "\n",
       "    .dataframe tbody tr th {\n",
       "        vertical-align: top;\n",
       "    }\n",
       "\n",
       "    .dataframe thead th {\n",
       "        text-align: right;\n",
       "    }\n",
       "</style>\n",
       "<table border=\"1\" class=\"dataframe\">\n",
       "  <thead>\n",
       "    <tr style=\"text-align: right;\">\n",
       "      <th></th>\n",
       "      <th>x</th>\n",
       "      <th>y</th>\n",
       "      <th>z = ln(y)</th>\n",
       "      <th>y_estim</th>\n",
       "    </tr>\n",
       "  </thead>\n",
       "  <tbody>\n",
       "    <tr>\n",
       "      <th>0</th>\n",
       "      <td>1.2</td>\n",
       "      <td>7.5</td>\n",
       "      <td>2.014903</td>\n",
       "      <td>7.213578</td>\n",
       "    </tr>\n",
       "    <tr>\n",
       "      <th>1</th>\n",
       "      <td>2.8</td>\n",
       "      <td>16.1</td>\n",
       "      <td>2.778819</td>\n",
       "      <td>17.021870</td>\n",
       "    </tr>\n",
       "    <tr>\n",
       "      <th>2</th>\n",
       "      <td>4.3</td>\n",
       "      <td>38.9</td>\n",
       "      <td>3.660994</td>\n",
       "      <td>38.068019</td>\n",
       "    </tr>\n",
       "    <tr>\n",
       "      <th>3</th>\n",
       "      <td>5.4</td>\n",
       "      <td>67.0</td>\n",
       "      <td>4.204693</td>\n",
       "      <td>68.690892</td>\n",
       "    </tr>\n",
       "    <tr>\n",
       "      <th>4</th>\n",
       "      <td>6.8</td>\n",
       "      <td>146.6</td>\n",
       "      <td>4.987708</td>\n",
       "      <td>145.595726</td>\n",
       "    </tr>\n",
       "    <tr>\n",
       "      <th>5</th>\n",
       "      <td>7.9</td>\n",
       "      <td>266.2</td>\n",
       "      <td>5.584248</td>\n",
       "      <td>262.716591</td>\n",
       "    </tr>\n",
       "  </tbody>\n",
       "</table>\n",
       "</div>"
      ],
      "text/plain": [
       "     x      y  z = ln(y)     y_estim\n",
       "0  1.2    7.5   2.014903    7.213578\n",
       "1  2.8   16.1   2.778819   17.021870\n",
       "2  4.3   38.9   3.660994   38.068019\n",
       "3  5.4   67.0   4.204693   68.690892\n",
       "4  6.8  146.6   4.987708  145.595726\n",
       "5  7.9  266.2   5.584248  262.716591"
      ]
     },
     "metadata": {},
     "output_type": "display_data"
    },
    {
     "data": {
      "text/html": [
       "<div>\n",
       "<style scoped>\n",
       "    .dataframe tbody tr th:only-of-type {\n",
       "        vertical-align: middle;\n",
       "    }\n",
       "\n",
       "    .dataframe tbody tr th {\n",
       "        vertical-align: top;\n",
       "    }\n",
       "\n",
       "    .dataframe thead th {\n",
       "        text-align: right;\n",
       "    }\n",
       "</style>\n",
       "<table border=\"1\" class=\"dataframe\">\n",
       "  <thead>\n",
       "    <tr style=\"text-align: right;\">\n",
       "      <th></th>\n",
       "      <th>x</th>\n",
       "      <th>y</th>\n",
       "      <th>z = ln(y)</th>\n",
       "      <th>y_estim</th>\n",
       "      <th>y-y_estim</th>\n",
       "    </tr>\n",
       "  </thead>\n",
       "  <tbody>\n",
       "    <tr>\n",
       "      <th>0</th>\n",
       "      <td>1.2</td>\n",
       "      <td>7.5</td>\n",
       "      <td>2.014903</td>\n",
       "      <td>7.213578</td>\n",
       "      <td>0.286422</td>\n",
       "    </tr>\n",
       "    <tr>\n",
       "      <th>1</th>\n",
       "      <td>2.8</td>\n",
       "      <td>16.1</td>\n",
       "      <td>2.778819</td>\n",
       "      <td>17.021870</td>\n",
       "      <td>-0.921870</td>\n",
       "    </tr>\n",
       "    <tr>\n",
       "      <th>2</th>\n",
       "      <td>4.3</td>\n",
       "      <td>38.9</td>\n",
       "      <td>3.660994</td>\n",
       "      <td>38.068019</td>\n",
       "      <td>0.831981</td>\n",
       "    </tr>\n",
       "    <tr>\n",
       "      <th>3</th>\n",
       "      <td>5.4</td>\n",
       "      <td>67.0</td>\n",
       "      <td>4.204693</td>\n",
       "      <td>68.690892</td>\n",
       "      <td>-1.690892</td>\n",
       "    </tr>\n",
       "    <tr>\n",
       "      <th>4</th>\n",
       "      <td>6.8</td>\n",
       "      <td>146.6</td>\n",
       "      <td>4.987708</td>\n",
       "      <td>145.595726</td>\n",
       "      <td>1.004274</td>\n",
       "    </tr>\n",
       "    <tr>\n",
       "      <th>5</th>\n",
       "      <td>7.9</td>\n",
       "      <td>266.2</td>\n",
       "      <td>5.584248</td>\n",
       "      <td>262.716591</td>\n",
       "      <td>3.483409</td>\n",
       "    </tr>\n",
       "  </tbody>\n",
       "</table>\n",
       "</div>"
      ],
      "text/plain": [
       "     x      y  z = ln(y)     y_estim  y-y_estim\n",
       "0  1.2    7.5   2.014903    7.213578   0.286422\n",
       "1  2.8   16.1   2.778819   17.021870  -0.921870\n",
       "2  4.3   38.9   3.660994   38.068019   0.831981\n",
       "3  5.4   67.0   4.204693   68.690892  -1.690892\n",
       "4  6.8  146.6   4.987708  145.595726   1.004274\n",
       "5  7.9  266.2   5.584248  262.716591   3.483409"
      ]
     },
     "metadata": {},
     "output_type": "display_data"
    },
    {
     "name": "stdout",
     "output_type": "stream",
     "text": [
      "----------------------------------\n",
      "| Desviación: 2.0991601104992066 |\n",
      "----------------------------------\n"
     ]
    }
   ],
   "source": [
    "#----- Se define el conjunto de datos\n",
    "x = np.array([1.2,2.8,4.3,5.4,6.8,7.9])\n",
    "y = np.array([7.5, 16.1, 38.9, 67.0, 146.6, 266.2])\n",
    "\n",
    "#----- Se calcula el logaritmo \n",
    "data = pd.DataFrame({'x': x, 'y':y})\n",
    "display(data)\n",
    "\n",
    "plt.figure(figsize=(7,7))\n",
    "plt.scatter(x,y, s=50, marker='o')\n",
    "plt.grid(True)\n",
    "\n",
    "plt.show()\n",
    "data['z = ln(y)'] = np.log(data['y'])\n",
    "display(data)\n",
    "\n",
    "#----- Hacemos una regresion lineal con 'x' y 'z'\n",
    "\n",
    "xpro, zpro = data['x'].mean(), data['z = ln(y)'].mean()\n",
    "\n",
    "b = (data['z = ln(y)']*(data['x'] - xpro)).sum() / (data['x']*(data['x'] - xpro)).sum()\n",
    "lna = zpro - a_1 * xpro\n",
    "print(f'Factores de la aproximacion lineal f(x) = ln (a) + bx...\\n\\n ln (a) = {lna}, b = {b}')\n",
    "a = np.exp(lna)\n",
    "box_print(f'Entonces... a = {a}, b= {b}')\n",
    "\n",
    "# ------ linea estimada\n",
    "xrang = np.arange(0,8,0.01)\n",
    "y_estim = a * np.exp(b*xrang)\n",
    "\n",
    "plt.figure(figsize=(7,7))\n",
    "plt.scatter(x,y, s=50, marker='o')\n",
    "plt.grid(True)\n",
    "plt.plot(xrang,y_estim, c='r')\n",
    "plt.show()\n",
    "\n",
    "# ------ Calculando desviación\n",
    "data['y_estim'] = a * np.exp(b * data['x'])\n",
    "display(data)\n",
    "data['y-y_estim'] = data['y'] - data['y_estim']\n",
    "display(data)\n",
    "\n",
    "std = np.sqrt(((data['y-y_estim']**2).sum() / (6 - 2)))\n",
    "box_print(f'Desviación: {std}')\n",
    "\n",
    "\n",
    "\n",
    "\n"
   ]
  },
  {
   "cell_type": "markdown",
   "id": "d5896d5b-0472-4854-a8ea-a045183a7698",
   "metadata": {},
   "source": [
    "### 2) Que pasa si usamos pesos $W_i = y_i$\n",
    "\n",
    "Para esto tenemos que \n",
    "\n",
    "![](./imgs/img21.png)"
   ]
  },
  {
   "cell_type": "code",
   "execution_count": 68,
   "id": "cc8c69cc-7556-43f9-a19b-d0e33e1727c5",
   "metadata": {},
   "outputs": [
    {
     "data": {
      "image/png": "[encoded data removed]",
      "text/plain": [
       "<Figure size 504x504 with 1 Axes>"
      ]
     },
     "metadata": {
      "needs_background": "light"
     },
     "output_type": "display_data"
    },
    {
     "data": {
      "text/html": [
       "<div>\n",
       "<style scoped>\n",
       "    .dataframe tbody tr th:only-of-type {\n",
       "        vertical-align: middle;\n",
       "    }\n",
       "\n",
       "    .dataframe tbody tr th {\n",
       "        vertical-align: top;\n",
       "    }\n",
       "\n",
       "    .dataframe thead th {\n",
       "        text-align: right;\n",
       "    }\n",
       "</style>\n",
       "<table border=\"1\" class=\"dataframe\">\n",
       "  <thead>\n",
       "    <tr style=\"text-align: right;\">\n",
       "      <th></th>\n",
       "      <th>x</th>\n",
       "      <th>y</th>\n",
       "      <th>z</th>\n",
       "    </tr>\n",
       "  </thead>\n",
       "  <tbody>\n",
       "    <tr>\n",
       "      <th>0</th>\n",
       "      <td>1.2</td>\n",
       "      <td>7.5</td>\n",
       "      <td>2.014903</td>\n",
       "    </tr>\n",
       "    <tr>\n",
       "      <th>1</th>\n",
       "      <td>2.8</td>\n",
       "      <td>16.1</td>\n",
       "      <td>2.778819</td>\n",
       "    </tr>\n",
       "    <tr>\n",
       "      <th>2</th>\n",
       "      <td>4.3</td>\n",
       "      <td>38.9</td>\n",
       "      <td>3.660994</td>\n",
       "    </tr>\n",
       "    <tr>\n",
       "      <th>3</th>\n",
       "      <td>5.4</td>\n",
       "      <td>67.0</td>\n",
       "      <td>4.204693</td>\n",
       "    </tr>\n",
       "    <tr>\n",
       "      <th>4</th>\n",
       "      <td>6.8</td>\n",
       "      <td>146.6</td>\n",
       "      <td>4.987708</td>\n",
       "    </tr>\n",
       "    <tr>\n",
       "      <th>5</th>\n",
       "      <td>7.9</td>\n",
       "      <td>266.2</td>\n",
       "      <td>5.584248</td>\n",
       "    </tr>\n",
       "  </tbody>\n",
       "</table>\n",
       "</div>"
      ],
      "text/plain": [
       "     x      y         z\n",
       "0  1.2    7.5  2.014903\n",
       "1  2.8   16.1  2.778819\n",
       "2  4.3   38.9  3.660994\n",
       "3  5.4   67.0  4.204693\n",
       "4  6.8  146.6  4.987708\n",
       "5  7.9  266.2  5.584248"
      ]
     },
     "metadata": {},
     "output_type": "display_data"
    },
    {
     "name": "stdout",
     "output_type": "stream",
     "text": [
      "-----------------------------------------------------\n",
      "| xhat = 7.47424843422636, zhat = 5.352654999328643 |\n",
      "-----------------------------------------------------\n",
      "-----------------------------------------------------------\n",
      "| Entonces... a = 3.62181882750398, b= 0.5439581915040744 |\n",
      "-----------------------------------------------------------\n"
     ]
    },
    {
     "data": {
      "image/png": "[encoded data removed]",
      "text/plain": [
       "<Figure size 504x504 with 1 Axes>"
      ]
     },
     "metadata": {
      "needs_background": "light"
     },
     "output_type": "display_data"
    },
    {
     "data": {
      "text/html": [
       "<div>\n",
       "<style scoped>\n",
       "    .dataframe tbody tr th:only-of-type {\n",
       "        vertical-align: middle;\n",
       "    }\n",
       "\n",
       "    .dataframe tbody tr th {\n",
       "        vertical-align: top;\n",
       "    }\n",
       "\n",
       "    .dataframe thead th {\n",
       "        text-align: right;\n",
       "    }\n",
       "</style>\n",
       "<table border=\"1\" class=\"dataframe\">\n",
       "  <thead>\n",
       "    <tr style=\"text-align: right;\">\n",
       "      <th></th>\n",
       "      <th>x</th>\n",
       "      <th>y</th>\n",
       "      <th>z</th>\n",
       "      <th>y_estim</th>\n",
       "    </tr>\n",
       "  </thead>\n",
       "  <tbody>\n",
       "    <tr>\n",
       "      <th>0</th>\n",
       "      <td>1.2</td>\n",
       "      <td>7.5</td>\n",
       "      <td>2.014903</td>\n",
       "      <td>6.956846</td>\n",
       "    </tr>\n",
       "    <tr>\n",
       "      <th>1</th>\n",
       "      <td>2.8</td>\n",
       "      <td>16.1</td>\n",
       "      <td>2.778819</td>\n",
       "      <td>16.610903</td>\n",
       "    </tr>\n",
       "    <tr>\n",
       "      <th>2</th>\n",
       "      <td>4.3</td>\n",
       "      <td>38.9</td>\n",
       "      <td>3.660994</td>\n",
       "      <td>37.562137</td>\n",
       "    </tr>\n",
       "    <tr>\n",
       "      <th>3</th>\n",
       "      <td>5.4</td>\n",
       "      <td>67.0</td>\n",
       "      <td>4.204693</td>\n",
       "      <td>68.330114</td>\n",
       "    </tr>\n",
       "    <tr>\n",
       "      <th>4</th>\n",
       "      <td>6.8</td>\n",
       "      <td>146.6</td>\n",
       "      <td>4.987708</td>\n",
       "      <td>146.334053</td>\n",
       "    </tr>\n",
       "    <tr>\n",
       "      <th>5</th>\n",
       "      <td>7.9</td>\n",
       "      <td>266.2</td>\n",
       "      <td>5.584248</td>\n",
       "      <td>266.199506</td>\n",
       "    </tr>\n",
       "  </tbody>\n",
       "</table>\n",
       "</div>"
      ],
      "text/plain": [
       "     x      y         z     y_estim\n",
       "0  1.2    7.5  2.014903    6.956846\n",
       "1  2.8   16.1  2.778819   16.610903\n",
       "2  4.3   38.9  3.660994   37.562137\n",
       "3  5.4   67.0  4.204693   68.330114\n",
       "4  6.8  146.6  4.987708  146.334053\n",
       "5  7.9  266.2  5.584248  266.199506"
      ]
     },
     "metadata": {},
     "output_type": "display_data"
    },
    {
     "data": {
      "text/html": [
       "<div>\n",
       "<style scoped>\n",
       "    .dataframe tbody tr th:only-of-type {\n",
       "        vertical-align: middle;\n",
       "    }\n",
       "\n",
       "    .dataframe tbody tr th {\n",
       "        vertical-align: top;\n",
       "    }\n",
       "\n",
       "    .dataframe thead th {\n",
       "        text-align: right;\n",
       "    }\n",
       "</style>\n",
       "<table border=\"1\" class=\"dataframe\">\n",
       "  <thead>\n",
       "    <tr style=\"text-align: right;\">\n",
       "      <th></th>\n",
       "      <th>x</th>\n",
       "      <th>y</th>\n",
       "      <th>z</th>\n",
       "      <th>y_estim</th>\n",
       "      <th>y-y_estim</th>\n",
       "    </tr>\n",
       "  </thead>\n",
       "  <tbody>\n",
       "    <tr>\n",
       "      <th>0</th>\n",
       "      <td>1.2</td>\n",
       "      <td>7.5</td>\n",
       "      <td>2.014903</td>\n",
       "      <td>6.956846</td>\n",
       "      <td>0.543154</td>\n",
       "    </tr>\n",
       "    <tr>\n",
       "      <th>1</th>\n",
       "      <td>2.8</td>\n",
       "      <td>16.1</td>\n",
       "      <td>2.778819</td>\n",
       "      <td>16.610903</td>\n",
       "      <td>-0.510903</td>\n",
       "    </tr>\n",
       "    <tr>\n",
       "      <th>2</th>\n",
       "      <td>4.3</td>\n",
       "      <td>38.9</td>\n",
       "      <td>3.660994</td>\n",
       "      <td>37.562137</td>\n",
       "      <td>1.337863</td>\n",
       "    </tr>\n",
       "    <tr>\n",
       "      <th>3</th>\n",
       "      <td>5.4</td>\n",
       "      <td>67.0</td>\n",
       "      <td>4.204693</td>\n",
       "      <td>68.330114</td>\n",
       "      <td>-1.330114</td>\n",
       "    </tr>\n",
       "    <tr>\n",
       "      <th>4</th>\n",
       "      <td>6.8</td>\n",
       "      <td>146.6</td>\n",
       "      <td>4.987708</td>\n",
       "      <td>146.334053</td>\n",
       "      <td>0.265947</td>\n",
       "    </tr>\n",
       "    <tr>\n",
       "      <th>5</th>\n",
       "      <td>7.9</td>\n",
       "      <td>266.2</td>\n",
       "      <td>5.584248</td>\n",
       "      <td>266.199506</td>\n",
       "      <td>0.000494</td>\n",
       "    </tr>\n",
       "  </tbody>\n",
       "</table>\n",
       "</div>"
      ],
      "text/plain": [
       "     x      y         z     y_estim  y-y_estim\n",
       "0  1.2    7.5  2.014903    6.956846   0.543154\n",
       "1  2.8   16.1  2.778819   16.610903  -0.510903\n",
       "2  4.3   38.9  3.660994   37.562137   1.337863\n",
       "3  5.4   67.0  4.204693   68.330114  -1.330114\n",
       "4  6.8  146.6  4.987708  146.334053   0.265947\n",
       "5  7.9  266.2  5.584248  266.199506   0.000494"
      ]
     },
     "metadata": {},
     "output_type": "display_data"
    },
    {
     "name": "stdout",
     "output_type": "stream",
     "text": [
      "--------------------------------\n",
      "| Desviación: 1.02296687350799 |\n",
      "--------------------------------\n"
     ]
    }
   ],
   "source": [
    "x = np.array([1.2,2.8,4.3,5.4,6.8,7.9])\n",
    "y = np.array([7.5, 16.1, 38.9, 67.0, 146.6, 266.2])\n",
    "plt.figure(figsize=(7,7))\n",
    "plt.scatter(x,y, s=50, marker='o')\n",
    "plt.grid(True)\n",
    "plt.show()\n",
    "\n",
    "\n",
    "\n",
    "data = pd.DataFrame({'x': x, 'y':y})\n",
    "data['z'] = np.log(data['y'])\n",
    "display(data)\n",
    "\n",
    "xhat = (data['x']*data['y']**2).sum() / (data['y']**2).sum()\n",
    "zhat = (data['z']*data['y']**2).sum() / (data['y']**2).sum()\n",
    "box_print(f'xhat = {xhat}, zhat = {zhat}')\n",
    "\n",
    "b = (data['y']**2 * data['z'] * (data['x'] - xhat)).sum() / (data['y']**2 * data['x'] * (data['x'] - xhat)).sum()\n",
    "lna = zhat - b*xhat\n",
    "a = np.exp(lna)\n",
    "\n",
    "box_print(f'Entonces... a = {a}, b= {b}')\n",
    "\n",
    "# ------ linea estimada\n",
    "xrang = np.arange(0,8,0.01)\n",
    "y_estim = a * np.exp(b*xrang)\n",
    "\n",
    "plt.figure(figsize=(7,7))\n",
    "plt.scatter(x,y, s=50, marker='o')\n",
    "plt.grid(True)\n",
    "plt.plot(xrang,y_estim, c='r')\n",
    "plt.show()\n",
    "\n",
    "# ------ Calculando desviación\n",
    "data['y_estim'] = a * np.exp(b * data['x'])\n",
    "display(data)\n",
    "data['y-y_estim'] = data['y'] - data['y_estim']\n",
    "display(data)\n",
    "\n",
    "std = np.sqrt(((data['y-y_estim']**2).sum() / (6 - 2)))\n",
    "box_print(f'Desviación: {std}')\n"
   ]
  },
  {
   "cell_type": "markdown",
   "id": "6a85b0ba-8426-4b5d-81cb-db8d83bd7d01",
   "metadata": {},
   "source": [
    "<a id='refe'></a>\n",
    "# Referencias\n",
    "\n",
    "[1] Jaan Kiussalas. Numerical Methods in Engineering with Python. (2011).\n"
   ]
  }
 ],
 "metadata": {
  "kernelspec": {
   "display_name": "Python 3",
   "language": "python",
   "name": "python3"
  },
  "language_info": {
   "codemirror_mode": {
    "name": "ipython",
    "version": 3
   },
   "file_extension": ".py",
   "mimetype": "text/x-python",
   "name": "python",
   "nbconvert_exporter": "python",
   "pygments_lexer": "ipython3",
   "version": "3.8.8"
  }
 },
 "nbformat": 4,
 "nbformat_minor": 5
}
