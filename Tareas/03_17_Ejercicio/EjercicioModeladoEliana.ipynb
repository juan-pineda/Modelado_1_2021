{
 "cells": [
  {
   "cell_type": "markdown",
   "id": "passing-monthly",
   "metadata": {},
   "source": [
    "# Matemática aplicada\n",
    "\n",
    "\n",
    "## Eliana Bonalde"
   ]
  },
  {
   "cell_type": "markdown",
   "id": "vulnerable-collector",
   "metadata": {},
   "source": [
    "### Ejercicio 1\n",
    "\n",
    "Escriba un programa en python que acepte una lista de palabras separadas por guiones, e imprima de vuelta las mismas palabras, sin repetición y nuevamente separadas por guiones, después de ordenarlos alfabéticamente. "
   ]
  },
  {
   "cell_type": "code",
   "execution_count": 8,
   "id": "rocky-egyptian",
   "metadata": {},
   "outputs": [
    {
     "data": {
      "text/plain": [
       "'gato-leon-perro-zorro'"
      ]
     },
     "execution_count": 8,
     "metadata": {},
     "output_type": "execute_result"
    }
   ],
   "source": [
    "def alfa(entrada):\n",
    "        #entrada es la lista de palabras que vamos a introducir con guiones\n",
    "    \n",
    "    lista_palabras = entrada.split('-')\n",
    "    #el comando (split) te devuelve una lista con todas estas palabras, cada elemento de esta lista\n",
    "    # está separado por guiones ('-') en la entrada de la función\n",
    "    \n",
    "    lista_palabras = set(lista_palabras)\n",
    "    # el comando (set - conjunto) lo usamos para eliminar las elementos repetidos\n",
    "    \n",
    "    lista_palabras = list(lista_palabras)\n",
    "    # Lo volvemos lista para poder operar el comando (sort)\n",
    "    \n",
    "    lista_palabras.sort()\n",
    "    #el comando (sort) los ordena alfabeticamente\n",
    "    \n",
    "    return \"-\".join(lista_palabras)\n",
    "    #el comando (join) une los elementos de la lista con guiones\n",
    "\n",
    "\n",
    "   \n",
    "\n",
    "alfa('zorro-perro-gato-gato-leon')\n",
    " "
   ]
  },
  {
   "cell_type": "code",
   "execution_count": null,
   "id": "compact-editing",
   "metadata": {},
   "outputs": [],
   "source": []
  }
 ],
 "metadata": {
  "kernelspec": {
   "display_name": "Python 3",
   "language": "python",
   "name": "python3"
  },
  "language_info": {
   "codemirror_mode": {
    "name": "ipython",
    "version": 3
   },
   "file_extension": ".py",
   "mimetype": "text/x-python",
   "name": "python",
   "nbconvert_exporter": "python",
   "pygments_lexer": "ipython3",
   "version": "3.8.8"
  }
 },
 "nbformat": 4,
 "nbformat_minor": 5
}
