{
 "cells": [
  {
   "cell_type": "markdown",
   "id": "a7823c88",
   "metadata": {},
   "source": [
    "\n",
    "\n",
    "#### Modelado Matemático II\n",
    "#### Eliana Bonalde\n",
    "\n",
    "# La expansión acelerada del Universo\n",
    "\n",
    "## Las ecuaciones de Friedmann-Lemaitre\n",
    "\n",
    "\n",
    "Las ecuaciones de Friedmann (1) son un conjunto de ecuaciones utilizadas en cosmología física que describen la expansión métrica del espacio en modelos homogéneos e isótropos del universo dentro del contexto de la teoría general de la relatividad. \n",
    "\n",
    "![FrLe](FrLe.png)\n",
    "\n",
    "A través de ellas se puede predecir, por ejemplo, la relación exacta entre la distancia luminosidad (en Mpc) y el corrimiento al rojo según la cantidad de materia y energía existentes en el Universo."
   ]
  },
  {
   "cell_type": "code",
   "execution_count": 1,
   "id": "56cc4bd4",
   "metadata": {},
   "outputs": [],
   "source": [
    "import numpy as np\n",
    "import matplotlib.pyplot as plt\n",
    "import seaborn as sns\n",
    "import pandas as pd\n",
    "import scipy.integrate as integrate\n",
    "import scipy.special as special\n",
    "from astropy import constants as ct\n",
    "from astropy.cosmology import WMAP9 as cosmo\n",
    "from astropy import units as unit"
   ]
  },
  {
   "cell_type": "markdown",
   "id": "2e3bf6ae",
   "metadata": {},
   "source": [
    "Definamos la variable I que resulta de integrar las diferenciales de distancias recorridos por la luz en función del corrimiento al rojo, desde el momento que fue emitida hasta hoy (z=0).\n",
    "\n",
    "![I](I.png)"
   ]
  },
  {
   "cell_type": "code",
   "execution_count": 2,
   "id": "c0844d2b",
   "metadata": {},
   "outputs": [],
   "source": [
    "def f_I(z, Om, Ol):\n",
    "    \n",
    "    '''Relación entre materia(Om), energia oscura(Ol) y la curvatura del Universo(Ok)'''\n",
    "    Ok = 1 - (Om + Ol)\n",
    "    \n",
    "    I = integrate.quad(lambda z: 1 / (np.sqrt(Om * (1 + z)**3 + Ol + Ok * (1 + z)**2)), 0, z)\n",
    "    I = I[0]\n",
    "    \n",
    "    return I"
   ]
  },
  {
   "cell_type": "markdown",
   "id": "f1a4f3a5",
   "metadata": {},
   "source": [
    "### Función Friedmann-Lemaitre `FrLe`\n",
    "\n",
    "En este conjunto de ecuaciones ΩM representa el porcentaje de la energía del Universo que\n",
    "está compuesto por materia; ΩΛ representa el porcentaje de la energía del Universo en forma\n",
    "de energía oscura, la misteriosa quintaesencia que proporciona la “gravedad negativa” para\n",
    "que el universo se expanda; finalmente ΩK representa la curvatura del Universo: si es igual\n",
    "a 0 quiere decir que el Universo es plano, y mayor/menor a 0 corresponde con modelos de\n",
    "Universo abierto/cerrado, respectivamente. "
   ]
  },
  {
   "cell_type": "code",
   "execution_count": 3,
   "id": "1a1af79d",
   "metadata": {},
   "outputs": [],
   "source": [
    "def FrLe(z, Om, Ol):\n",
    "    \n",
    "    '''Contante de Hobble'''\n",
    "    H0 = cosmo.H(0).value\n",
    "    #H0 = (73.5 * unit.km / unit.s / unit.Mpc).value \n",
    "    \n",
    "    '''Velocidad de la luz'''\n",
    "    c = ct.c.to('km/s').value\n",
    "    \n",
    "    '''Relación entre materia(Om), energia oscura(Ol) y la curvatura del Universo(Ok)'''\n",
    "    Ok = 1 - (Om + Ol)\n",
    "    \n",
    "    if Om + Ol > 1:\n",
    "        I = f_I(z, Om, Ol)\n",
    "        Dl = ((1 + z) * c / H0) * (1 / np.sqrt(np.abs(Ok))) * np.sin(np.sqrt(np.abs(Ok)) * I)\n",
    "    if  Om + Ol < 1:\n",
    "        I = f_I(z, Om, Ol)\n",
    "        Dl = ((1 + z) * c / H0) * (1 / np.sqrt(np.abs(Ok))) * np.sinh(np.sqrt(np.abs(Ok)) * I)\n",
    "    else:\n",
    "        I = f_I(z, Om, Ol)\n",
    "        Dl = ((1 + z) * c / H0) * I\n",
    "        \n",
    "    '''Modulo de distancia'''\n",
    "    Dl_mu = 5 * np.log10(Dl) + 25 \n",
    "    \n",
    "    return Dl_mu"
   ]
  },
  {
   "cell_type": "markdown",
   "id": "ebcacabd",
   "metadata": {},
   "source": [
    "LLamamos a la función `FrLe` con **Om = 0.7** y **Ol = 0.3**. "
   ]
  },
  {
   "cell_type": "code",
   "execution_count": 4,
   "id": "e5aaa812",
   "metadata": {},
   "outputs": [
    {
     "name": "stderr",
     "output_type": "stream",
     "text": [
      "<ipython-input-3-8e8693e01563>:24: RuntimeWarning: divide by zero encountered in log10\n",
      "  Dl_mu = 5 * np.log10(Dl) + 25\n"
     ]
    }
   ],
   "source": [
    "z = np.linspace(0, 1.5, 1000)\n",
    "n = len(z)\n",
    "Dl_mu = np.zeros(n)\n",
    "\n",
    "for j in range(0, n):\n",
    "    w = z[j]\n",
    "    Dl_mu[j] = FrLe(z=j, Om=0.7, Ol=0.3)"
   ]
  },
  {
   "cell_type": "markdown",
   "id": "c3ae0fb5",
   "metadata": {},
   "source": [
    "Graficamos este modelo. "
   ]
  },
  {
   "cell_type": "code",
   "execution_count": 5,
   "id": "f7b7076c",
   "metadata": {},
   "outputs": [
    {
     "data": {
      "image/png": "[encoded data removed]",
      "text/plain": [
       "<Figure size 432x288 with 1 Axes>"
      ]
     },
     "metadata": {
      "needs_background": "light"
     },
     "output_type": "display_data"
    }
   ],
   "source": [
    "plt.plot(z, Dl_mu)\n",
    "plt.title('Relación entre el módulo de distancia y el corrimiento al rojo')\n",
    "plt.ylabel('Distancia luminosidad')\n",
    "plt.xlabel('Corrimiento al rojo')\n",
    "plt.show()         "
   ]
  },
  {
   "cell_type": "markdown",
   "id": "14e046e0",
   "metadata": {},
   "source": [
    "### Ejercicio 6\n",
    "\n",
    "Los datos son tomados de [Supernova Cosmology Project](https://supernova.lbl.gov/Union/)."
   ]
  },
  {
   "cell_type": "code",
   "execution_count": 6,
   "id": "5e1d5151",
   "metadata": {
    "scrolled": false
   },
   "outputs": [],
   "source": [
    "SCP = pd.read_csv('SupernovaCosmologyProject.txt', delim_whitespace=True)"
   ]
  },
  {
   "cell_type": "markdown",
   "id": "2fa4e837",
   "metadata": {},
   "source": [
    "Agregamos nuevas columnas con valores distintos de **Om** y **Ol** para obtener varios modelos a través de combinaciones entre estos parámetros. "
   ]
  },
  {
   "cell_type": "code",
   "execution_count": 7,
   "id": "05c9294e",
   "metadata": {
    "scrolled": false
   },
   "outputs": [
    {
     "data": {
      "text/html": [
       "<div>\n",
       "<style scoped>\n",
       "    .dataframe tbody tr th:only-of-type {\n",
       "        vertical-align: middle;\n",
       "    }\n",
       "\n",
       "    .dataframe tbody tr th {\n",
       "        vertical-align: top;\n",
       "    }\n",
       "\n",
       "    .dataframe thead th {\n",
       "        text-align: right;\n",
       "    }\n",
       "</style>\n",
       "<table border=\"1\" class=\"dataframe\">\n",
       "  <thead>\n",
       "    <tr style=\"text-align: right;\">\n",
       "      <th></th>\n",
       "      <th>Supernova_Name</th>\n",
       "      <th>Redshift(z)</th>\n",
       "      <th>Distance_Modulus(mu)</th>\n",
       "      <th>Distance_Modulus_Error</th>\n",
       "      <th>Prob_lowmass_Galaxy</th>\n",
       "      <th>Dl_mu_1</th>\n",
       "      <th>Dl_mu_2</th>\n",
       "      <th>Dl_mu_3</th>\n",
       "      <th>Dl_mu_4</th>\n",
       "    </tr>\n",
       "  </thead>\n",
       "  <tbody>\n",
       "    <tr>\n",
       "      <th>0</th>\n",
       "      <td>1993ag</td>\n",
       "      <td>0.050043</td>\n",
       "      <td>36.682368</td>\n",
       "      <td>0.166829</td>\n",
       "      <td>0.128419</td>\n",
       "      <td>36.757722</td>\n",
       "      <td>36.760389</td>\n",
       "      <td>36.760618</td>\n",
       "      <td>36.741624</td>\n",
       "    </tr>\n",
       "    <tr>\n",
       "      <th>1</th>\n",
       "      <td>1993o</td>\n",
       "      <td>0.052926</td>\n",
       "      <td>36.817691</td>\n",
       "      <td>0.155756</td>\n",
       "      <td>0.128419</td>\n",
       "      <td>36.883850</td>\n",
       "      <td>36.886671</td>\n",
       "      <td>36.886924</td>\n",
       "      <td>36.866838</td>\n",
       "    </tr>\n",
       "    <tr>\n",
       "      <th>2</th>\n",
       "      <td>1993b</td>\n",
       "      <td>0.070086</td>\n",
       "      <td>37.446737</td>\n",
       "      <td>0.158467</td>\n",
       "      <td>0.128419</td>\n",
       "      <td>37.520060</td>\n",
       "      <td>37.523796</td>\n",
       "      <td>37.524214</td>\n",
       "      <td>37.497638</td>\n",
       "    </tr>\n",
       "    <tr>\n",
       "      <th>3</th>\n",
       "      <td>1992bs</td>\n",
       "      <td>0.062668</td>\n",
       "      <td>37.483409</td>\n",
       "      <td>0.156099</td>\n",
       "      <td>0.128419</td>\n",
       "      <td>37.265801</td>\n",
       "      <td>37.269142</td>\n",
       "      <td>37.269483</td>\n",
       "      <td>37.245711</td>\n",
       "    </tr>\n",
       "    <tr>\n",
       "      <th>4</th>\n",
       "      <td>1992br</td>\n",
       "      <td>0.087589</td>\n",
       "      <td>38.229057</td>\n",
       "      <td>0.187746</td>\n",
       "      <td>0.128419</td>\n",
       "      <td>38.030418</td>\n",
       "      <td>38.035087</td>\n",
       "      <td>38.035711</td>\n",
       "      <td>38.002534</td>\n",
       "    </tr>\n",
       "    <tr>\n",
       "      <th>...</th>\n",
       "      <td>...</td>\n",
       "      <td>...</td>\n",
       "      <td>...</td>\n",
       "      <td>...</td>\n",
       "      <td>...</td>\n",
       "      <td>...</td>\n",
       "      <td>...</td>\n",
       "      <td>...</td>\n",
       "      <td>...</td>\n",
       "    </tr>\n",
       "    <tr>\n",
       "      <th>574</th>\n",
       "      <td>D-000</td>\n",
       "      <td>1.017000</td>\n",
       "      <td>44.293971</td>\n",
       "      <td>0.171046</td>\n",
       "      <td>0.000015</td>\n",
       "      <td>44.166693</td>\n",
       "      <td>44.211450</td>\n",
       "      <td>44.258143</td>\n",
       "      <td>43.942989</td>\n",
       "    </tr>\n",
       "    <tr>\n",
       "      <th>575</th>\n",
       "      <td>D-006</td>\n",
       "      <td>1.315000</td>\n",
       "      <td>44.971358</td>\n",
       "      <td>0.187509</td>\n",
       "      <td>0.551672</td>\n",
       "      <td>44.857080</td>\n",
       "      <td>44.909896</td>\n",
       "      <td>44.976439</td>\n",
       "      <td>44.600589</td>\n",
       "    </tr>\n",
       "    <tr>\n",
       "      <th>576</th>\n",
       "      <td>P-009</td>\n",
       "      <td>0.821000</td>\n",
       "      <td>43.640939</td>\n",
       "      <td>0.194014</td>\n",
       "      <td>0.551672</td>\n",
       "      <td>43.592988</td>\n",
       "      <td>43.631271</td>\n",
       "      <td>43.665139</td>\n",
       "      <td>43.396866</td>\n",
       "    </tr>\n",
       "    <tr>\n",
       "      <th>577</th>\n",
       "      <td>R-012</td>\n",
       "      <td>1.215000</td>\n",
       "      <td>45.246521</td>\n",
       "      <td>0.560317</td>\n",
       "      <td>0.000148</td>\n",
       "      <td>44.644610</td>\n",
       "      <td>44.694937</td>\n",
       "      <td>44.754837</td>\n",
       "      <td>44.398078</td>\n",
       "    </tr>\n",
       "    <tr>\n",
       "      <th>578</th>\n",
       "      <td>Z-005</td>\n",
       "      <td>0.623000</td>\n",
       "      <td>42.514524</td>\n",
       "      <td>0.241428</td>\n",
       "      <td>0.551672</td>\n",
       "      <td>42.859426</td>\n",
       "      <td>42.890069</td>\n",
       "      <td>42.911805</td>\n",
       "      <td>42.697499</td>\n",
       "    </tr>\n",
       "  </tbody>\n",
       "</table>\n",
       "<p>579 rows × 9 columns</p>\n",
       "</div>"
      ],
      "text/plain": [
       "    Supernova_Name  Redshift(z)  Distance_Modulus(mu)  Distance_Modulus_Error  \\\n",
       "0           1993ag     0.050043             36.682368                0.166829   \n",
       "1            1993o     0.052926             36.817691                0.155756   \n",
       "2            1993b     0.070086             37.446737                0.158467   \n",
       "3           1992bs     0.062668             37.483409                0.156099   \n",
       "4           1992br     0.087589             38.229057                0.187746   \n",
       "..             ...          ...                   ...                     ...   \n",
       "574          D-000     1.017000             44.293971                0.171046   \n",
       "575          D-006     1.315000             44.971358                0.187509   \n",
       "576          P-009     0.821000             43.640939                0.194014   \n",
       "577          R-012     1.215000             45.246521                0.560317   \n",
       "578          Z-005     0.623000             42.514524                0.241428   \n",
       "\n",
       "     Prob_lowmass_Galaxy    Dl_mu_1    Dl_mu_2    Dl_mu_3    Dl_mu_4  \n",
       "0               0.128419  36.757722  36.760389  36.760618  36.741624  \n",
       "1               0.128419  36.883850  36.886671  36.886924  36.866838  \n",
       "2               0.128419  37.520060  37.523796  37.524214  37.497638  \n",
       "3               0.128419  37.265801  37.269142  37.269483  37.245711  \n",
       "4               0.128419  38.030418  38.035087  38.035711  38.002534  \n",
       "..                   ...        ...        ...        ...        ...  \n",
       "574             0.000015  44.166693  44.211450  44.258143  43.942989  \n",
       "575             0.551672  44.857080  44.909896  44.976439  44.600589  \n",
       "576             0.551672  43.592988  43.631271  43.665139  43.396866  \n",
       "577             0.000148  44.644610  44.694937  44.754837  44.398078  \n",
       "578             0.551672  42.859426  42.890069  42.911805  42.697499  \n",
       "\n",
       "[579 rows x 9 columns]"
      ]
     },
     "execution_count": 7,
     "metadata": {},
     "output_type": "execute_result"
    }
   ],
   "source": [
    "SCP.columns = ['Supernova_Name', 'Redshift(z)', 'Distance_Modulus(mu)', 'Distance_Modulus_Error', 'Prob_lowmass_Galaxy']\n",
    "SCP['Dl_mu_1'] = SCP['Redshift(z)'].apply(lambda z: FrLe(z, Om=0.3, Ol=0.7))\n",
    "SCP['Dl_mu_2'] = SCP['Redshift(z)'].apply(lambda z: FrLe(z, Om=0.266, Ol=0.732))\n",
    "SCP['Dl_mu_3'] = SCP['Redshift(z)'].apply(lambda z: FrLe(z, Om=0.2, Ol=0.7))\n",
    "SCP['Dl_mu_4'] = SCP['Redshift(z)'].apply(lambda z: FrLe(z, Om=0.5, Ol=0.5))\n",
    "SCP"
   ]
  },
  {
   "cell_type": "code",
   "execution_count": 8,
   "id": "829aa5cc",
   "metadata": {},
   "outputs": [],
   "source": [
    "SCP = SCP.sort_values('Redshift(z)') #ordenamos los valores de corrimiento al rojo."
   ]
  },
  {
   "cell_type": "markdown",
   "id": "65c7b11b",
   "metadata": {},
   "source": [
    "Comparamos gráficamente el modolo original con todos los modelos considerados. "
   ]
  },
  {
   "cell_type": "code",
   "execution_count": 9,
   "id": "2fa6ff9b",
   "metadata": {},
   "outputs": [
    {
     "data": {
      "text/plain": [
       "<matplotlib.legend.Legend at 0x7f11a43c11f0>"
      ]
     },
     "execution_count": 9,
     "metadata": {},
     "output_type": "execute_result"
    },
    {
     "data": {
      "image/png": "[encoded data removed]",
      "text/plain": [
       "<Figure size 864x720 with 1 Axes>"
      ]
     },
     "metadata": {
      "needs_background": "light"
     },
     "output_type": "display_data"
    }
   ],
   "source": [
    "plt.figure(figsize = (12,10)) \n",
    "sns.scatterplot(data=SCP, x='Redshift(z)', y='Distance_Modulus(mu)')\n",
    "plt.plot(SCP['Redshift(z)'], SCP['Dl_mu_1'], 'k', label = 'Om=0.3, Ol=0.7')\n",
    "plt.plot(SCP['Redshift(z)'], SCP['Dl_mu_2'], 'r--', label = 'Om=0.266, Ol=0.732')\n",
    "plt.plot(SCP['Redshift(z)'], SCP['Dl_mu_3'], 'y:', label = 'Om=0.6, Ol=0.4')\n",
    "plt.plot(SCP['Redshift(z)'], SCP['Dl_mu_4'], 'g.-', label = 'Om=0.5, Ol=0.5')\n",
    "plt.errorbar(SCP['Redshift(z)'], SCP['Distance_Modulus(mu)'], yerr=SCP['Distance_Modulus_Error'], linestyle='None', linewidth=1)\n",
    "plt.legend()"
   ]
  },
  {
   "cell_type": "markdown",
   "id": "c390634c",
   "metadata": {},
   "source": [
    "## Fuentes bibliográficas \n",
    "\n",
    "Basto Pineda, Juan. La expansión acelerada del Universo.  \n",
    "\n",
    "[Supernova Cosmology Project](https://supernova.lbl.gov/Union/).\n",
    "\n",
    "[Ecuaciones de Friedmann. Wikipedia](https://es.wikipedia.org/wiki/Ecuaciones_de_Friedmann)."
   ]
  },
  {
   "cell_type": "code",
   "execution_count": null,
   "id": "1b11aa68",
   "metadata": {},
   "outputs": [],
   "source": []
  }
 ],
 "metadata": {
  "kernelspec": {
   "display_name": "Python 3",
   "language": "python",
   "name": "python3"
  },
  "language_info": {
   "codemirror_mode": {
    "name": "ipython",
    "version": 3
   },
   "file_extension": ".py",
   "mimetype": "text/x-python",
   "name": "python",
   "nbconvert_exporter": "python",
   "pygments_lexer": "ipython3",
   "version": "3.8.8"
  }
 },
 "nbformat": 4,
 "nbformat_minor": 5
}
