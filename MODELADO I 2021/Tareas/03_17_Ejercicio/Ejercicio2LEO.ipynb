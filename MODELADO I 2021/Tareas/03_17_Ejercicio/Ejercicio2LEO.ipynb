{
 "cells": [
  {
   "cell_type": "markdown",
   "id": "ceramic-board",
   "metadata": {},
   "source": [
    "# Autor: Jorge Leonardo López Agredo.  Código: 2218061\n",
    "## Tarea: EJercicio No. 2 - Triángulo de Pascal\n",
    "\n",
    "Escriba una rutina en python que reciba como entrada un número entero\n",
    ", $n$, e imprima los números en la $n$-ésima fila del triángulo de Pascal (TP).\n",
    "EL programa debe verificar sie el número n es entero, o arrojar un mensaje\n",
    "informando que ha ocurrido un error del usuario en caso contrario."
   ]
  },
  {
   "cell_type": "markdown",
   "id": "powered-theater",
   "metadata": {},
   "source": [
    "## Presentamos ahora tres formas distintas de la solución.\n",
    "\n",
    "Teniendo en cuenta las sugerencias hechas en clase, presentamos tres soluciones:\n",
    "La primera es usando la definición formal de los coeficientes del triángulo de Pascal, usando el combinatorio de dos números no negativos. El programa es creado desde cero, sin usar las librerías disponibles. \n",
    "La segunda forma, es definiendo las líneas del TP de manera recursiva, sin tener que calcular los números combinatorios. Finalmente, la tercera forma, presenta una mejora significativa, usando las librerías disponibles como numpy o math. \n",
    "\n",
    "**Nota:** De las tres versiones, la *tercera* es la más eficiente, por los tiempos de cálculo y la cantidad de operaciones hechas."
   ]
  },
  {
   "cell_type": "markdown",
   "id": "alleged-notion",
   "metadata": {},
   "source": [
    "## Forma uno de solución:\n",
    "\n",
    "Partiendo de la definición del factorial de $n$, y calculando a partir de este la función combinatoria, \n",
    "podemos calcular todos los n términos en la nésima fila del TP.\n",
    "\n",
    "Recordemos que el factorial de un número $n$ no negativo, $n!$, se define de manera recursiva como:\n",
    "$$0!=1$$\n",
    "$$n!=n(n-1)!$$\n",
    "\n",
    "Adicionalemtente, tenemos que el numero combinatorio  $n$ *combina* $k$ se define como:\n",
    "$$C_k^n= \\dfrac{n!}{k!(n-k)!}$$"
   ]
  },
  {
   "cell_type": "code",
   "execution_count": 1,
   "id": "average-anatomy",
   "metadata": {},
   "outputs": [],
   "source": [
    "#calculamos el factorial de un número n\n",
    "def factorial(n):\n",
    "    if(n!=0):\n",
    "        return n*factorial(n-1)\n",
    "    else:\n",
    "        return 1\n",
    "def combinatoria(n,k):\n",
    "    #calculamos n combinado k\n",
    "    return int((factorial(n))/(factorial(k)*factorial(n-k)))\n",
    "    \n",
    "def CBN(n):\n",
    "    coeficientes=[]\n",
    "    for k in range(n+1):\n",
    "        coeficientes.append(combinatoria(n,k))\n",
    "    return coeficientes"
   ]
  },
  {
   "cell_type": "markdown",
   "id": "artificial-midnight",
   "metadata": {},
   "source": [
    "**Aquí podemos correr el código principal para introducir el número** $n$. \n",
    "Necesitamos que este sea un número."
   ]
  },
  {
   "cell_type": "code",
   "execution_count": 3,
   "id": "fitting-academy",
   "metadata": {},
   "outputs": [
    {
     "name": "stdout",
     "output_type": "stream",
     "text": [
      "\n",
      " Digite la potencia n del BN (a+b)**n al cual desea calcular sus coeficientes binomiales: 10\n",
      "\n",
      " los 10 términos de la 10-ésima fila del triángulo de Pascal son: \n",
      "\n",
      "[1, 9, 36, 84, 126, 126, 84, 36, 9, 1]\n"
     ]
    }
   ],
   "source": [
    "#principal \n",
    "bandera=1\n",
    "while bandera==1:\n",
    "    n=float(input('\\n Digite la potencia n del BN (a+b)**n al cual desea calcular sus coeficientes binomiales: '))\n",
    "    if n%1!= 0.0:\n",
    "        #Miramos si es entero\n",
    "        print('\\n Error, n debe ser entero. Por favor vuelva a introducir el valor de n: ')\n",
    "        bandera==1\n",
    "    elif n<1:\n",
    "        #miramos si es no negativo\n",
    "        print('\\n Error, n debe ser un entero Positivo. Por favor vuelva a introducir el valor de n, no negativo: ')\n",
    "    else:\n",
    "        #Cambiamos el flotante n a entero\n",
    "        n=int(n)\n",
    "        bandera=0\n",
    "print(f'\\n los {n} términos de la {n}-ésima fila del triángulo de Pascal son: \\n')\n",
    "print(CBN(n-1))#mostramos la n-ésima fila del triángulo de Pascal"
   ]
  },
  {
   "cell_type": "markdown",
   "id": "imperial-sunday",
   "metadata": {},
   "source": [
    "## Forma dos de solución:\n",
    "\n",
    "Definiendo recursivamente cada una de las anteriores filas del TP, podemos hallar la número $n$.\n",
    "EL programa entrega en pantalla cada una de las $n$ filas."
   ]
  },
  {
   "cell_type": "code",
   "execution_count": 4,
   "id": "tamil-concern",
   "metadata": {},
   "outputs": [],
   "source": [
    "def CBNR(n):\n",
    "    i=1\n",
    "    while i<=n:\n",
    "        coeficientes=[0]*i\n",
    "        for j in range(i):\n",
    "            if (j==0 or j==i-1):\n",
    "                coeficientes[j]=1\n",
    "            elif (j>0 and j<i-1):\n",
    "                coeficientes[j]=copiaCo[j-1]+copiaCo[j]#utilizamos recursividad       \n",
    "        print(coeficientes)\n",
    "        copiaCo=coeficientes.copy()#guardamos copia para utilizar recursividad\n",
    "        i=i+1"
   ]
  },
  {
   "cell_type": "markdown",
   "id": "internal-engine",
   "metadata": {},
   "source": [
    "**Aquí corremos el código principal para la segunda opción.**"
   ]
  },
  {
   "cell_type": "code",
   "execution_count": 15,
   "id": "criminal-country",
   "metadata": {
    "scrolled": false
   },
   "outputs": [
    {
     "name": "stdout",
     "output_type": "stream",
     "text": [
      "\n",
      " Digite la potencia n del BN (a+b)**n al cual desea calcular sus coeficientes binomiales: 10\n",
      "\n",
      " las 10 primeras filas del triángulo de Pascal son: \n",
      "\n",
      "[1]\n",
      "[1, 1]\n",
      "[1, 2, 1]\n",
      "[1, 3, 3, 1]\n",
      "[1, 4, 6, 4, 1]\n",
      "[1, 5, 10, 10, 5, 1]\n",
      "[1, 6, 15, 20, 15, 6, 1]\n",
      "[1, 7, 21, 35, 35, 21, 7, 1]\n",
      "[1, 8, 28, 56, 70, 56, 28, 8, 1]\n",
      "[1, 9, 36, 84, 126, 126, 84, 36, 9, 1]\n",
      "None\n"
     ]
    }
   ],
   "source": [
    "#principal \n",
    "bandera=1\n",
    "while bandera==1:\n",
    "    n=float(input('\\n Digite la potencia n del BN (a+b)**n al cual desea calcular sus coeficientes binomiales: '))\n",
    "    if n%1!= 0.0:\n",
    "        #Miramos si es entero\n",
    "        print('\\n Error, n debe ser entero. Por favor vuelva a introducir el valor de n: ')\n",
    "        bandera==1\n",
    "    elif n<0:\n",
    "        #miramos si es no negativo\n",
    "        print('\\n Error, n debe ser un entero no negativo. Por favor vuelva a introducir el valor de n, no negativo: ')\n",
    "    else:\n",
    "        #Cambiamos el flotante n a entero\n",
    "        n=int(n)\n",
    "        bandera=0\n",
    "print(f'\\n las {n} primeras filas del triángulo de Pascal son: \\n')\n",
    "print(CBNR(n))#mostramos la n-ésima fila del triángulo de Pascal"
   ]
  },
  {
   "cell_type": "markdown",
   "id": "certified-fraction",
   "metadata": {},
   "source": [
    "# Tercera forma de solución:\n",
    "\n",
    "Usando las librerías presentes en Python podemos escribir mejor el código, y ganar eficiencia en el cálculo."
   ]
  },
  {
   "cell_type": "code",
   "execution_count": 5,
   "id": "treated-passage",
   "metadata": {},
   "outputs": [],
   "source": [
    "import numpy as np\n",
    "import math as math"
   ]
  },
  {
   "cell_type": "code",
   "execution_count": 7,
   "id": "potential-smart",
   "metadata": {},
   "outputs": [],
   "source": [
    "def TP(n):\n",
    "    coeficientes=[]\n",
    "    for k in range(n+1):\n",
    "        coeficientes.append(math.comb(n,k))\n",
    "    return coeficientes\n"
   ]
  },
  {
   "cell_type": "markdown",
   "id": "urban-spank",
   "metadata": {},
   "source": [
    "**Aquí corremos el código principal para la tercera opción.**"
   ]
  },
  {
   "cell_type": "code",
   "execution_count": 10,
   "id": "light-notebook",
   "metadata": {},
   "outputs": [
    {
     "name": "stdout",
     "output_type": "stream",
     "text": [
      "\n",
      " Digite la potencia n del BN (a+b)**n al cual desea calcular sus coeficientes binomiales: 10\n",
      "\n",
      " los 10 términos de la 10-ésima fila del triángulo de Pascal son: \n",
      "\n",
      "[1, 9, 36, 84, 126, 126, 84, 36, 9, 1]\n"
     ]
    }
   ],
   "source": [
    "#principal \n",
    "bandera=1\n",
    "while bandera==1:\n",
    "    n=float(input('\\n Digite la potencia n del BN (a+b)**n al cual desea calcular sus coeficientes binomiales: '))\n",
    "    if n!=np.ceil(n):\n",
    "        #Miramos si es entero\n",
    "        print('\\n Error, n debe ser entero. Por favor vuelva a introducir el valor de n: ')\n",
    "        bandera==1\n",
    "    elif n<1:\n",
    "        #miramos si es no negativo\n",
    "        print('\\n Error, n debe ser un entero Positivo. Por favor vuelva a introducir el valor de n, no negativo: ')\n",
    "    else:\n",
    "        #Cambiamos el flotante n a entero\n",
    "        n=int(n)\n",
    "        bandera=0\n",
    "print(f'\\n los {n} términos de la {n}-ésima fila del triángulo de Pascal son: \\n')\n",
    "print(TP(n-1))#mostramos la n-ésima fila del triángulo de Pascal"
   ]
  },
  {
   "cell_type": "code",
   "execution_count": null,
   "id": "endangered-brook",
   "metadata": {},
   "outputs": [],
   "source": []
  }
 ],
 "metadata": {
  "kernelspec": {
   "display_name": "Python 3",
   "language": "python",
   "name": "python3"
  },
  "language_info": {
   "codemirror_mode": {
    "name": "ipython",
    "version": 3
   },
   "file_extension": ".py",
   "mimetype": "text/x-python",
   "name": "python",
   "nbconvert_exporter": "python",
   "pygments_lexer": "ipython3",
   "version": "3.8.8"
  }
 },
 "nbformat": 4,
 "nbformat_minor": 5
}
