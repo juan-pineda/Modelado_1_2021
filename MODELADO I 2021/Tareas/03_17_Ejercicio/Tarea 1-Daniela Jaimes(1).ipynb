{
 "cells": [
  {
   "cell_type": "markdown",
   "metadata": {},
   "source": [
    "# TAREA I MODELADO MATEMÁTICO I\n",
    "\n",
    "## Lizeth Daniela Jaimes González - 2218062\n",
    "\n",
    "### Ejercicio #5\n",
    "\n",
    "#### Escriba un programa en python que reciba una fecha de nacimiento en formato 'dd/mm/yy' para informar el signo zodiacal según el zodiaco chino"
   ]
  },
  {
   "cell_type": "code",
   "execution_count": 2,
   "metadata": {},
   "outputs": [
    {
     "name": "stdout",
     "output_type": "stream",
     "text": [
      "Agregue su fecha de nacimiento en formato \"dd/mm/aaaa\": 15/11/1997\n",
      "Tu signo zodiacal chino es BUEY\n"
     ]
    }
   ],
   "source": [
    "from datetime import datetime #Módulo para trabajar con fechas y horas.\n",
    "\n",
    "nacimiento = input('Agregue su fecha de nacimiento en formato \"dd/mm/aaaa\": ') #Se recibe la fecha en el formato especificado \n",
    "nacimiento = datetime.strptime(nacimiento, \"%d/%m/%Y\") #Al dato recibido en input se le agrega cierto formato de fecha, en este caso \n",
    "                                                       #el día va ser el entero antes del primer /, luego el mes y finalmente\n",
    "                                                       #el año con los 4 dígitos. Dependiendo del formato que se necesite, se cambian \n",
    "                                                       #los simbolos. También se les puede agregar horas, minutos, segundos, microsegundos.\n",
    "                                                       #Lista de simbolos para cambiar formatos: http://strftime.org/\n",
    "                            \n",
    "año = int(nacimiento.year) #De la fecha de nacimiento, seleccionamos sólo el año de nacimiento\n",
    "modulo = año%12 #A la fecha de nacimiento, se le saca el módulo de 12 (ya que cada 12 años se repite el signo zodiacal)\n",
    "\n",
    "añonuevo = { '10/2/1994' : 1994,  #Se crea un diccionario con la fecha de año nuevo de cada año, ya que en el calendario chino\n",
    "             '31/1/1995' : 1995,  #esta fecha varía según el calendario lunisolar\n",
    "             '25/2/1996' : 1996,\n",
    "             '07/2/1997' : 1997,\n",
    "             '28/1/1998' : 1998,\n",
    "             '16/2/1999' : 1999,\n",
    "             '05/2/2000' : 2000,\n",
    "             '24/1/2001' : 2001,\n",
    "             '12/2/2002' : 2002,\n",
    "             '01/2/2003' : 2003,\n",
    "             '22/1/2004' : 2004,\n",
    "             '09/2/2005' : 2005,\n",
    "             '29/1/2006' : 2006,\n",
    "             '18/2/2007' : 2007,\n",
    "             '07/2/2008' : 2008,\n",
    "             '26/1/2009' : 2009,\n",
    "             '14/2/2010' : 2010,\n",
    "             '03/2/2011' : 2011,\n",
    "             '23/1/2012' : 2012,\n",
    "             '10/2/2013' : 2013,\n",
    "             '31/1/2014' : 2014,\n",
    "             '19/2/2015' : 2015,\n",
    "             '08/2/2016' : 2016,\n",
    "             '28/1/2017' : 2017,\n",
    "             '16/2/2018' : 2018,\n",
    "             '05/2/2019' : 2019,\n",
    "             '25/1/2020' : 2020,\n",
    "             '12/2/2021' : 2021 }\n",
    " \n",
    "for va in añonuevo.keys(): #Se crea un for que corra por todas las claves del diccionario año nuevo\n",
    "    if añonuevo[va] == año: #Cuando el valor del diccionario sea igual a la fecha de nacimiento entra el if\n",
    "        fecha = datetime.strptime(va, \"%d/%m/%Y\") #Se le da un formato de fecha a la clave del dicionario\n",
    "        if fecha > nacimiento: #Si la fecha de nacimiento es menor que la fecha de año nuevo entra al if\n",
    "            modulo = modulo - 1 #Bajo la condición anterior se le resta 1 al módulo para que corresponda al año anterior\n",
    "        else:\n",
    "            modulo = modulo #De lo contrario se mantiene el modulo para que se quede en el mismo año \n",
    "\n",
    "\n",
    "horoscopo = {\"MONO\"      : 0, #Se crea un diccionario con el signo zodiacal al que corresponde cada módulo\n",
    "             \"GALLO\"     : 1,\n",
    "             \"PERRO\"     : 2,\n",
    "             \"CERDO\"     : 3,\n",
    "             \"RATA\"      : 4,\n",
    "             \"BUEY\"      : 5,\n",
    "             \"TIGRE\"     : 6,\n",
    "             \"CONEJO\"    : 7,\n",
    "             \"DRAGÓN\"    : 8,\n",
    "             \"SERPIENTE\" : 9,\n",
    "             \"CABALLO\"   : 10,\n",
    "             \"CABRA\"     : 11\n",
    "            }\n",
    "\n",
    "def res(dic, valores): #Se crea una función con dos entradas: un diccionario y un valor \n",
    "    for val in dic.keys(): #Se recorren las claves del diccionario\n",
    "        if dic[val] == valores: #Si el valor del diccionario es igual al valor de entrada entra al if\n",
    "            print(f'Tu signo zodiacal chino es {val}') #En ese caso se imprime el signo zodiacal, que es el valor en \n",
    "                                                       #el diccionario que cumplió la anterior condición\n",
    "            \n",
    "res(horoscopo, modulo) #Se asignan los valores de entrada de la función, que en este caso es el diccionario horoscopo\n",
    "                       #y el valor es el modulo\n",
    "            "
   ]
  }
 ],
 "metadata": {
  "kernelspec": {
   "display_name": "Python 3",
   "language": "python",
   "name": "python3"
  },
  "language_info": {
   "codemirror_mode": {
    "name": "ipython",
    "version": 3
   },
   "file_extension": ".py",
   "mimetype": "text/x-python",
   "name": "python",
   "nbconvert_exporter": "python",
   "pygments_lexer": "ipython3",
   "version": "3.8.5"
  }
 },
 "nbformat": 4,
 "nbformat_minor": 4
}
