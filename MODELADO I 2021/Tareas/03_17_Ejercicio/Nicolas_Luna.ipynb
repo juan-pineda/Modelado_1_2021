{
  "nbformat": 4,
  "nbformat_minor": 0,
  "metadata": {
    "colab": {
      "name": "ejercicio-modelado.ipynb",
      "provenance": [],
      "collapsed_sections": []
    },
    "kernelspec": {
      "name": "python3",
      "display_name": "Python 3"
    }
  },
  "cells": [
    {
      "cell_type": "markdown",
      "metadata": {
        "id": "PeTRvonaRtT7"
      },
      "source": [
        "# Modelado matemático 2021\n",
        "\n",
        "## Tarea 1 - Ejercicio 3.\n",
        "\n",
        "Entre en contacto con los estudiantes del curso y consulte el usuario de mattermost, el nombre, la edad, el áis de origen, al ciudad donde habita, al profesión, la universidad donde estudia y su hobby. \n",
        "Cree un diccionario llamado \"compas\", donde la llave sea el nombre de usuario de matermost y si despliego dl valor almacenado, por ejemplo en compas[\"juan-pineda\"], lo que obtengo es a la vez otro diccionrio con las llaves de los datos anteriores.\n",
        "Cree una función que reciba como entrada el diccionario y un pías de origen, y retorne las informaciones completas de todas las personas de ese país, tabuladas de una forma fácil de entender. Busque una forma de calcular, a aprtir del diccionario, el promedo de edad de todas las peronas en él, y una forma de mostrar todas las instituciones (sin repertición).\n",
        "\n",
        "**Autor:** Nicolás Luna Chacón\n",
        "\n",
        "**Código:** 2218063"
      ]
    },
    {
      "cell_type": "code",
      "metadata": {
        "id": "Fl47VuY5AGcj"
      },
      "source": [
        "import statistics as st"
      ],
      "execution_count": null,
      "outputs": []
    },
    {
      "cell_type": "code",
      "metadata": {
        "id": "qAYXg6jXUSps"
      },
      "source": [
        "elianabonalde_uis = {\n",
        "    \"Nombre\": \"Eliana Bonalde Marcano\",\n",
        "    \"Edad\":38,\n",
        "    \"Pais\":\"Venezuela\",\n",
        "    \"Ciudad\":\"Bucaramanga\",\n",
        "    \"Profesion\":\"Matemática\",\n",
        "    \"Universidad\":\"UIS\",\n",
        "    \"Hobby\":\"Cocinar\"\n",
        "}"
      ],
      "execution_count": null,
      "outputs": []
    },
    {
      "cell_type": "code",
      "metadata": {
        "id": "Gk4adyh2VUHx"
      },
      "source": [
        "danielajaimesg = {\n",
        "    \"Nombre\": \"Lizeth Daniela Jaimes González\",\n",
        "    \"Edad\":23,\n",
        "    \"Pais\":\"Colombia\",\n",
        "    \"Ciudad\":\"Floridablanca\",\n",
        "    \"Profesion\":\"Física\",\n",
        "    \"Universidad\":\"UIS\",\n",
        "    \"Hobby\":\"Bailar\"\n",
        "}"
      ],
      "execution_count": null,
      "outputs": []
    },
    {
      "cell_type": "code",
      "metadata": {
        "id": "ohcBjBxRVUwu"
      },
      "source": [
        "ramon_castro = {\n",
        "    \"Nombre\": \"Ramón Elías Castro Rojas\",\n",
        "    \"Edad\":32,\n",
        "    \"Pais\":\"Colombia\",\n",
        "    \"Ciudad\":\"Pamplona\",\n",
        "    \"Profesion\":\"Matemático\",\n",
        "    \"Universidad\":\"UIS\",\n",
        "    \"Hobby\":\"Ajedrez\"\n",
        "}"
      ],
      "execution_count": null,
      "outputs": []
    },
    {
      "cell_type": "code",
      "metadata": {
        "id": "YwuoYXq7VYIG"
      },
      "source": [
        "juanolmos_uis = {\n",
        "    \"Nombre\": \"Juan Andres Olmos Rojas\",\n",
        "    \"Edad\":22,\n",
        "    \"Pais\":\"Colombia\",\n",
        "    \"Ciudad\":\"Piedecuesta\",\n",
        "    \"Profesion\":\"Matemático\",\n",
        "    \"Universidad\":\"UIS\",\n",
        "    \"Hobby\":\"Leer\"\n",
        "}"
      ],
      "execution_count": null,
      "outputs": []
    },
    {
      "cell_type": "code",
      "metadata": {
        "id": "m8ccwgl5VYvt"
      },
      "source": [
        "leonardlopez = {\n",
        "    \"Nombre\": \"Jorge Leonardo López Agredo\",\n",
        "    \"Edad\":28,\n",
        "    \"Pais\":\"Colombia\",\n",
        "    \"Ciudad\":\"Socorro\",\n",
        "    \"Profesion\":\"Matemático\",\n",
        "    \"Universidad\":\"UIS\",\n",
        "    \"Hobby\":\"Fútbol\"\n",
        "}"
      ],
      "execution_count": null,
      "outputs": []
    },
    {
      "cell_type": "code",
      "metadata": {
        "id": "dgH_EIdiVaa9"
      },
      "source": [
        "juan_pineda = {\n",
        "    \"Nombre\": \"Juan Carlos Basto Pineda\",\n",
        "    \"Edad\":38,\n",
        "    \"Pais\":\"Colombia\",\n",
        "    \"Ciudad\":\"Bucaramanga\",\n",
        "    \"Profesion\":\"Astrónomo\",\n",
        "    \"Universidad\":\"UIS\",\n",
        "    \"Hobby\":\"Dibujar\"\n",
        "}"
      ],
      "execution_count": null,
      "outputs": []
    },
    {
      "cell_type": "code",
      "metadata": {
        "id": "p8Ub-iMsVa6e"
      },
      "source": [
        "nicolasl = {\n",
        "    \"Nombre\": \"Nicolás Luna Chacón\",\n",
        "    \"Edad\":22,\n",
        "    \"Pais\":\"Colombia\",\n",
        "    \"Ciudad\":\"Bucaramanga\",\n",
        "    \"Profesion\":\"Matemático\",\n",
        "    \"Universidad\":\"UIS\",\n",
        "    \"Hobby\":\"Jugar\"\n",
        "}"
      ],
      "execution_count": null,
      "outputs": []
    },
    {
      "cell_type": "code",
      "metadata": {
        "colab": {
          "base_uri": "https://localhost:8080/"
        },
        "id": "9lD8qcAqXG3w",
        "outputId": "31454cc1-4db2-4b10-db50-548f400625e3"
      },
      "source": [
        "compas = {\n",
        "    \"elianabonalde_uis\":elianabonalde_uis,\n",
        "    \"danielajaimesg\":danielajaimesg,\n",
        "    \"ramon_castro\":ramon_castro,\n",
        "    \"juanolmos_uis\":juanolmos_uis,\n",
        "    \"leonardlopez\":leonardlopez,\n",
        "    \"juan_pineda\":juan_pineda,\n",
        "    \"nicolasl\":nicolasl\n",
        "}\n",
        "compas.keys()"
      ],
      "execution_count": null,
      "outputs": [
        {
          "output_type": "execute_result",
          "data": {
            "text/plain": [
              "dict_keys(['elianabonalde_uis', 'danielajaimesg', 'ramon_castro', 'juanolmos_uis', 'leonardlopez', 'juan_pineda', 'nicolasl'])"
            ]
          },
          "metadata": {
            "tags": []
          },
          "execution_count": 17
        }
      ]
    },
    {
      "cell_type": "code",
      "metadata": {
        "id": "DUHql3NrfCn4"
      },
      "source": [
        "def ejer(dic,conc,ele): #se pide el diccionario, el dato o concepto que se quiere mirar por ejemplo,pais, edad, etc, y se pide el valor de la variable por ejemplo Colombia(para pais) o 22(para edad)\n",
        "    for asa in dic.keys(): # se recorre cada una de las llaves del diccionario\n",
        "        if dic[asa][conc] == ele: # se comprara el elemento de cada uno de los diccionarios pequeños que corresponden al solicitado en la primera linea, con el valor específico también solicitado en la primera linea.\n",
        "            print(dic[asa]) # se imprimen los elementos que corresponden con el valor solicitado en la primera linea"
      ],
      "execution_count": null,
      "outputs": []
    },
    {
      "cell_type": "code",
      "metadata": {
        "colab": {
          "base_uri": "https://localhost:8080/"
        },
        "id": "Y8Nx6VhFf1hQ",
        "outputId": "f5abbf8a-34fb-42ca-e58c-a27058a27425"
      },
      "source": [
        "ejer(compas,\"Pais\",\"Colombia\")"
      ],
      "execution_count": null,
      "outputs": [
        {
          "output_type": "stream",
          "text": [
            "{'Nombre': 'Lizeth Daniela Jaimes González', 'Edad': 23, 'Pais': 'Colombia', 'Ciudad': 'Floridablanca', 'Profesion': 'Física', 'Universidad': 'UIS', 'Hobby': 'Bailar'}\n",
            "{'Nombre': 'Ramón Elías Castro Rojas', 'Edad': 32, 'Pais': 'Colombia', 'Ciudad': 'Pamplona', 'Profesion': 'Matemático', 'Universidad': 'UIS', 'Hobby': 'Ajedrez'}\n",
            "{'Nombre': 'Juan Andres Olmos Rojas', 'Edad': 22, 'Pais': 'Colombia', 'Ciudad': 'Piedecuesta', 'Profesion': 'Matemático', 'Universidad': 'UIS', 'Hobby': 'Leer'}\n",
            "{'Nombre': 'Jorge Leonardo López Agredo', 'Edad': 28, 'Pais': 'Colombia', 'Ciudad': 'Socorro', 'Profesion': 'Matemático', 'Universidad': 'UIS', 'Hobby': 'Fútbol'}\n",
            "{'Nombre': 'Juan Carlos Basto Pineda', 'Edad': 38, 'Pais': 'Colombia', 'Ciudad': 'Bucaramanga', 'Profesion': 'Astrónomo', 'Universidad': 'UIS', 'Hobby': 'Dibujar'}\n",
            "{'Nombre': 'Nicolás Luna Chacón', 'Edad': 22, 'Pais': 'Colombia', 'Ciudad': 'Bucaramanga', 'Profesion': 'Matemático', 'Universidad': 'UIS', 'Hobby': 'Jugar'}\n"
          ],
          "name": "stdout"
        }
      ]
    },
    {
      "cell_type": "code",
      "metadata": {
        "id": "o1ye89rKc8vU"
      },
      "source": [
        "edades=[] #se crea una lista vacía\n",
        "def prom(dic):\n",
        "    for asa in dic.keys(): #se recorre cada una de las llaves del diccionario\n",
        "        edades.append(dic[asa][\"Edad\"]) #se llena la lista con cada una de las edades\n",
        "    return st.mean(edades) #se calcula el promedio de todas las edades"
      ],
      "execution_count": null,
      "outputs": []
    },
    {
      "cell_type": "code",
      "metadata": {
        "colab": {
          "base_uri": "https://localhost:8080/"
        },
        "id": "EEzWNU6Xdw9Z",
        "outputId": "0869c60a-7349-4270-da68-939fc5eeb3ba"
      },
      "source": [
        "prom(compas)"
      ],
      "execution_count": null,
      "outputs": [
        {
          "output_type": "execute_result",
          "data": {
            "text/plain": [
              "29"
            ]
          },
          "metadata": {
            "tags": []
          },
          "execution_count": 22
        }
      ]
    },
    {
      "cell_type": "code",
      "metadata": {
        "id": "yjA1ZZJMdy1w"
      },
      "source": [
        "inst=[] #se crea una lista vacía\n",
        "def insti(dic):\n",
        "    for asa in dic.keys(): #se recorre cada una de las llaves del diccionario\n",
        "        inst.append(dic[asa][\"Universidad\"]) #se agregar cada uno de los valores de \"Universidad\" de cada usuario a la lista.\n",
        "    inst2=set(inst) # se convierte la lista a un conjunto para eliminar los repetidos\n",
        "    return inst2"
      ],
      "execution_count": 60,
      "outputs": []
    },
    {
      "cell_type": "code",
      "metadata": {
        "colab": {
          "base_uri": "https://localhost:8080/"
        },
        "id": "pxYVh_NGfPO_",
        "outputId": "41936cd9-7977-41ff-d06d-604f9e542c84"
      },
      "source": [
        "insti(compas)\n"
      ],
      "execution_count": null,
      "outputs": [
        {
          "output_type": "execute_result",
          "data": {
            "text/plain": [
              "{'UIS'}"
            ]
          },
          "metadata": {
            "tags": []
          },
          "execution_count": 59
        }
      ]
    }
  ]
}