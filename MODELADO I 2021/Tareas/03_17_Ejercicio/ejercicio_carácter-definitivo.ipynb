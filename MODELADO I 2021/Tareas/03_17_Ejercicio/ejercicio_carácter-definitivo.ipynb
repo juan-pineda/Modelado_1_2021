{
 "cells": [
  {
   "cell_type": "code",
   "execution_count": 14,
   "id": "center-found",
   "metadata": {},
   "outputs": [
    {
     "name": "stdout",
     "output_type": "stream",
     "text": [
      "Por favor ingrese una cadena de caracteres:abcd****+\n",
      "El carácter más repetido es '*' con un total de 4 veces\n"
     ]
    }
   ],
   "source": [
    "# Escriba un programa en python que reciba una cadena de caracteres y encuentre cual de ellos\n",
    "# es el que más se repite , informando cuál fue y cuantas veces aparece.\n",
    "\n",
    "def caracter_repetido(cadena):\n",
    "# Lista 256 posiciones código ASCII\n",
    "    contador=[0]*256 \n",
    "# la funcion ord retorna el valor unicode del carácter cedido como argumento  \n",
    "    for c in cadena :    \n",
    "        contador[ord(c)]+=1\n",
    "    maximo=-1   # Valor bandera \n",
    "    caracter=''\n",
    "    for c in cadena :\n",
    "        if maximo<contador[ord(c)]:\n",
    "            maximo=contador[ord(c)]\n",
    "            caracter=c\n",
    "    return caracter,maximo,contador\n",
    "\n",
    "# Se recibe una cadena de caracteres por teclado\n",
    "\n",
    "cadena=input(\"Por favor ingrese una cadena de caracteres:\")\n",
    "\n",
    "#La funcion carácter_repetido retorna dos valores\n",
    "car,rep,c=caracter_repetido(cadena)\n",
    "\n",
    "print(\"El carácter más repetido es '%s' con un total de %s veces\"%(car,rep))"
   ]
  },
  {
   "cell_type": "code",
   "execution_count": 10,
   "id": "palestinian-parking",
   "metadata": {},
   "outputs": [
    {
     "name": "stdout",
     "output_type": "stream",
     "text": [
      "[0, 0, 0, 0, 0, 0, 0, 0, 0, 0, 0, 0, 0, 0, 0, 0, 0, 0, 0, 0, 0, 0, 0, 0, 0, 0, 0, 0, 0, 0, 0, 0, 0, 0, 0, 0, 0, 0, 0, 0, 0, 0, 0, 0, 0, 0, 0, 0, 0, 0, 0, 0, 0, 0, 0, 0, 0, 0, 0, 0, 0, 0, 0, 0, 0, 0, 0, 0, 0, 0, 0, 0, 0, 0, 0, 0, 0, 0, 0, 0, 0, 0, 0, 0, 0, 0, 0, 0, 0, 0, 0, 0, 0, 0, 0, 0, 0, 3, 3, 3, 1, 1, 1, 0, 0, 0, 0, 0, 0, 0, 0, 0, 0, 0, 0, 0, 0, 0, 0, 0, 0, 0, 0, 0, 0, 0, 0, 0, 0, 0, 0, 0, 0, 0, 0, 0, 0, 0, 0, 0, 0, 0, 0, 0, 0, 0, 0, 0, 0, 0, 0, 0, 0, 0, 0, 0, 0, 0, 0, 0, 0, 0, 0, 0, 0, 0, 0, 0, 0, 0, 0, 0, 0, 0, 0, 0, 0, 0, 0, 0, 0, 0, 0, 0, 0, 0, 0, 0, 0, 0, 0, 0, 0, 0, 0, 0, 0, 0, 0, 0, 0, 0, 0, 0, 0, 0, 0, 0, 0, 0, 0, 0, 0, 0, 0, 0, 0, 0, 0, 0, 0, 0, 0, 0, 0, 0, 0, 0, 0, 0, 0, 0, 0, 0, 0, 0, 0, 0, 0, 0, 0, 0, 0, 0, 0, 0, 0, 0, 0, 0, 0, 0, 0, 0, 0, 0]\n"
     ]
    }
   ],
   "source": [
    "print(c)"
   ]
  },
  {
   "cell_type": "code",
   "execution_count": 11,
   "id": "hindu-photographer",
   "metadata": {},
   "outputs": [
    {
     "data": {
      "text/plain": [
       "3"
      ]
     },
     "execution_count": 11,
     "metadata": {},
     "output_type": "execute_result"
    }
   ],
   "source": [
    "max(c)"
   ]
  },
  {
   "cell_type": "code",
   "execution_count": 13,
   "id": "cheap-amendment",
   "metadata": {},
   "outputs": [
    {
     "name": "stdout",
     "output_type": "stream",
     "text": [
      "43\n"
     ]
    }
   ],
   "source": [
    "print(ord('+'))\n"
   ]
  },
  {
   "cell_type": "code",
   "execution_count": null,
   "id": "assured-temple",
   "metadata": {},
   "outputs": [],
   "source": []
  }
 ],
 "metadata": {
  "kernelspec": {
   "display_name": "Python 3",
   "language": "python",
   "name": "python3"
  },
  "language_info": {
   "codemirror_mode": {
    "name": "ipython",
    "version": 3
   },
   "file_extension": ".py",
   "mimetype": "text/x-python",
   "name": "python",
   "nbconvert_exporter": "python",
   "pygments_lexer": "ipython3",
   "version": "3.8.8"
  }
 },
 "nbformat": 4,
 "nbformat_minor": 5
}
